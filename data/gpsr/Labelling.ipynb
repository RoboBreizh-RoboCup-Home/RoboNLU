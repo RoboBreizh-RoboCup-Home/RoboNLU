{
 "cells": [
  {
   "cell_type": "code",
   "execution_count": 1,
   "metadata": {},
   "outputs": [],
   "source": [
    "import pandas as pd\n",
    "import numpy as np"
   ]
  },
  {
   "cell_type": "code",
   "execution_count": 2,
   "metadata": {},
   "outputs": [
    {
     "name": "stdout",
     "output_type": "stream",
     "text": [
      "len:  100000\n",
      "['Locate -B_find- Mary -B_find_per-, pick -B_take- up -I_take- the orange -B_take_obj- from the dining -i- table -B_take_sour-, and put -B_take- it -B_take_obj- on the bookcase -B_take_dest- please', 'Could you bring -B_take- me -B_take_dest- some drinks -B_take_obj- from the microwave -B_take_sour-', 'Robot please spot -B_find- Jennifer -B_find_per- at the entrance -B_find_dest-, retrieve -B_take- the paprika -B_take_obj- from the counter -B_take_sour-, and bring -B_take- it -B_take_obj- to Skyler -B_take_dest-', 'Please go -B_go- to the end -i- table -B_go_dest-, locate -B_find- Jennifer -B_find_per-, and escort -B_guide- her -B_guide_per-', 'Could you salute -B_greet- the woman -i- dressed -i- in -i- a -i- red -i- coat -i- -i- -B_greet_per- in the kitchen -B_greet_dest-', 'Robot please get acquainted with -B_know- Robert -B_find_per- at the entrance -B_find_dest-, then greet -B_greet- him -B_greet_per-', 'Could you pour -B_take- some grape -i- juice -B_take_obj- in a cup -B_take_dest-', 'Locate -B_find- Charlie -B_find_per- at the desk -B_find_dest-, escort -B_guide- her -B_guide_per-, and say -B_say- whether you dream or not on electric sheep -I_say- please', 'Leave -B_take- a cup -B_take_obj- on the end -i- table -B_take_dest- and a knife -B_take_obj- on its -B_take_dest- right -I_take_dest-', 'Robot please salute -B_greet- the slimmest -i- woman -B_greet_per- in the dining -i- room -B_greet_dest-']\n"
     ]
    }
   ],
   "source": [
    "def read_command(path):\n",
    "    with open(path) as f:\n",
    "        lines = f.readlines()\n",
    "        \n",
    "    com = []    \n",
    "    count = 0\n",
    "    for l in lines:\n",
    "        if count == 0 and '# Example' in l:\n",
    "            count += 1\n",
    "        elif count == 1 and l == '#\\n':\n",
    "            count += 1\n",
    "        elif count == 2 and '########################' in l:\n",
    "            count += 1\n",
    "        elif count ==3 and l == '\\n':\n",
    "            count += 1\n",
    "        elif count == 4:\n",
    "            com.append(l.strip())\n",
    "            count = 0\n",
    "            \n",
    "    return com\n",
    "\n",
    "# path = './EGPSR Examples.txt'\n",
    "# com_lst = read_command(path)  \n",
    "# print('len: ',len(com_lst))\n",
    "# com_lst[:10]\n",
    "\n",
    "#path_lst = ['./EGPSR Examples_{i}.txt' for i in range(1,11)]\n",
    "def read_all(num_files):\n",
    "    com_lst = []\n",
    "    for i in range(1,num_files+1):\n",
    "        path = './Examples/EGPSR Examples_' + str(i)+ '.txt'\n",
    "        com_lst.extend(read_command(path))\n",
    "    return com_lst\n",
    "\n",
    "num_files = 10\n",
    "com_lst = read_all(num_files)\n",
    "print('len: ',len(com_lst))\n",
    "print(com_lst[:10])"
   ]
  },
  {
   "cell_type": "code",
   "execution_count": 3,
   "metadata": {},
   "outputs": [],
   "source": [
    "import itertools\n",
    "\n",
    "def improve_labels(com_lst):\n",
    "    res = []\n",
    "    for i,com in enumerate(com_lst):\n",
    "\n",
    "        #-b_obj  -->  -B_obj: to fix a labelling error in the command generator\n",
    "        com = [ele if 'b_' not in ele else ele.replace('b_','B_') for ele in com.split()]\n",
    "        com = ['-'+ele if ele == 'B_guide_dest-' else ele for ele in com]\n",
    "\n",
    "\n",
    "        if '-B_say-' not in com and '-i-' not in com:\n",
    "            res.append(com)\n",
    "            continue\n",
    "        elif '-B_say-' in com:\n",
    "            if '-I_say-' not in com:\n",
    "                labelled = com\n",
    "            else:\n",
    "                b_idx = com.index('-B_say-') + 1\n",
    "                e_idx = com.index('-I_say-') -1\n",
    "                first = com[:b_idx]\n",
    "                end = com[e_idx:]\n",
    "                \n",
    "                need_label = com[b_idx:e_idx]\n",
    "                \n",
    "                #rem all -i- in the 'say' cases\n",
    "                need_label = [ele for ele in need_label if ele != '-i-']\n",
    "                \n",
    "                interleave = list(itertools.chain(*zip(need_label, ['-I_say-']*len(need_label))))\n",
    "                labelled = first + interleave + end\n",
    "                \n",
    "                com = labelled.copy()\n",
    "\n",
    "        #deal with -i-\n",
    "        elif '-i-' in com: \n",
    "            string = ' '.join(com)\n",
    "            while '-i- -i-' in string:\n",
    "                string = string.replace('-i- -i-', '-i-')\n",
    "\n",
    "            while '-i- -' in string:\n",
    "                string = string.replace('-i- -','-')\n",
    "\n",
    "            com = string.split()\n",
    "\n",
    "\n",
    "            idx_lst = []\n",
    "            for idx,ele in enumerate(com):\n",
    "                if ele == '-i-':\n",
    "                    if len(idx_lst) == 0: \n",
    "                        idx_lst.append([idx])\n",
    "                    elif idx == idx_lst[-1][-1] + 2:\n",
    "                        idx_lst[-1].append(idx)\n",
    "                    else:\n",
    "                        idx_lst.append([idx])\n",
    "            # if i == 0:\n",
    "            #     print(com)\n",
    "            #     print(idx_lst)\n",
    "\n",
    "            for lst in idx_lst:\n",
    "                end_label = com[lst[-1]+2]\n",
    "                com[lst[0]] = end_label.replace(',','')\n",
    "                if 'B' in end_label:\n",
    "                    com[lst[-1]+2] = com[lst[-1]+2].replace('B','I').replace(',','')\n",
    "\n",
    "                    \n",
    "                for j,idx in enumerate(lst):\n",
    "                    if j == 0:\n",
    "                        continue\n",
    "                    else:\n",
    "                        label = com[lst[-1]+2]\n",
    "\n",
    "                        #remove the comma for the earlier tokens (with i) if has comma\n",
    "                        if ',' in label:\n",
    "                            label = label.replace(',','')\n",
    "\n",
    "                        com[idx] = label\n",
    "\n",
    "            labelled = com.copy()\n",
    "\n",
    "        res.append(labelled)     \n",
    "    return res\n",
    "\n",
    "res = improve_labels(com_lst)"
   ]
  },
  {
   "cell_type": "code",
   "execution_count": 4,
   "outputs": [
    {
     "data": {
      "text/plain": "'Robot please get acquainted with -B_know- Robert -B_find_per- at the entrance -B_find_dest-, then greet -B_greet- him -B_greet_per-'"
     },
     "execution_count": 4,
     "metadata": {},
     "output_type": "execute_result"
    }
   ],
   "source": [
    "# x = 'skii'.replace('t','')\n",
    "# print(x)\n",
    "# res[3]\n",
    "# [' '.join(ele) for ele in res[3]]\n",
    "' '.join(res[5])"
   ],
   "metadata": {
    "collapsed": false
   }
  },
  {
   "cell_type": "code",
   "execution_count": 5,
   "metadata": {},
   "outputs": [
    {
     "data": {
      "text/plain": "['B_find',\n 'B_find_per,',\n 'B_take',\n 'I_take',\n 'O',\n 'B_take_obj',\n 'O',\n 'O',\n 'B_take_sour',\n 'I_take_sour',\n 'O',\n 'B_take',\n 'B_take_obj',\n 'O',\n 'O',\n 'B_take_dest',\n 'O']"
     },
     "execution_count": 5,
     "metadata": {},
     "output_type": "execute_result"
    }
   ],
   "source": [
    "def generate_seq_out(res):\n",
    "    seq_in = []\n",
    "    seq_out = []\n",
    "    comma_seq_out = []\n",
    "    for i,com in enumerate(res):\n",
    "        in_lst = []\n",
    "        clean_out_lst = []\n",
    "        comma_out_lst = []\n",
    "        for ele in com:\n",
    "#             print('ele; ',ele)\n",
    "            if ele[0] != '-':\n",
    "                in_lst.append(ele)\n",
    "                clean_out_lst.append('O')\n",
    "                comma_out_lst.append('O')\n",
    "            else:\n",
    "                clean_out_lst[-1] = ele.replace('-','',2)\n",
    "                comma_out_lst[-1] = ele.replace('-','',2)\n",
    "                if ',' in ele:\n",
    "                    clean_out_lst[-1] = clean_out_lst[-1].replace(',','')\n",
    "\n",
    "        # for j,lab in enumerate(comma_out_lst):\n",
    "        #     if ',' in lab\n",
    "\n",
    "\n",
    "        seq_in.append(in_lst)\n",
    "        seq_out.append(clean_out_lst)\n",
    "        comma_seq_out.append(comma_out_lst)\n",
    "    return seq_in, seq_out, comma_seq_out\n",
    "\n",
    "seq_in, seq_out,comma_seq_out = generate_seq_out(res)\n",
    "comma_seq_out[0]"
   ]
  },
  {
   "cell_type": "code",
   "execution_count": 26,
   "outputs": [
    {
     "name": "stdout",
     "output_type": "stream",
     "text": [
      "Locate Mary, pick up the orange from the dining, table, and put it on the bookcase please\n",
      "B_find B_find_per, B_take I_take O B_take_obj O O B_take_sour, I_take_sour, O B_take B_take_obj O O B_take_dest O\n"
     ]
    }
   ],
   "source": [
    "# [' '.join(ele) for ele in comma_seq_out]\n",
    "def command_with_comma(seq_in,comma_seq_out):\n",
    "    comma_seq_in = []\n",
    "    for sample_idx in range(len(seq_in)):\n",
    "        comma_command = []\n",
    "        command = seq_in[sample_idx]\n",
    "        label_with_comma = comma_seq_out[sample_idx]\n",
    "        for token_idx in range(len(command)):\n",
    "            if ',' in label_with_comma[token_idx]:\n",
    "                command_token = command[token_idx] + ','\n",
    "            else:\n",
    "                command_token = command[token_idx]\n",
    "            comma_command.append(command_token)\n",
    "\n",
    "        comma_seq_in.append(comma_command)\n",
    "\n",
    "    return comma_seq_in\n",
    "\n",
    "comma_seq_in =  command_with_comma(seq_in,comma_seq_out)\n",
    "print([' '.join(ele) for ele in comma_seq_in][0])\n",
    "print([' '.join(ele) for ele in comma_seq_out][0])"
   ],
   "metadata": {
    "collapsed": false
   }
  },
  {
   "cell_type": "code",
   "execution_count": 6,
   "metadata": {},
   "outputs": [
    {
     "data": {
      "text/plain": "                                                 command  \\\n0      Locate Mary pick up the orange from the dining...   \n1      Could you bring me some drinks from the microwave   \n2      Robot please spot Jennifer at the entrance ret...   \n3      Please go to the end table locate Jennifer and...   \n4      Could you salute the woman dressed in a red co...   \n...                                                  ...   \n66188  Robot please get the orange from the sink loca...   \n66190  Robot please place paprika on the desk get the...   \n66191  Set sponge on the end table pinpoint Francis a...   \n66192  Spot Charlie in the corridor retrieve the oran...   \n66193  Please offer something to drink to all the peo...   \n\n                                                   label  \n0      B_find B_find_per B_take I_take O B_take_obj O...  \n1      O O B_take B_take_dest O B_take_obj O O B_take...  \n2      O O B_find B_find_per O O B_find_dest B_take O...  \n3      O B_go O O B_go_dest I_go_dest B_find B_find_p...  \n4      O O B_greet O B_greet_per I_greet_per I_greet_...  \n...                                                  ...  \n66188  O O B_take O B_take_obj O O B_take_sour B_find...  \n66190  O O B_take B_take_obj O O B_take_dest B_take O...  \n66191  B_take B_take_obj O O B_take_dest I_take_dest ...  \n66192  B_find B_find_per O O B_find_dest B_take O B_t...  \n66193  O B_take B_take_obj I_take_obj I_take_obj O B_...  \n\n[43726 rows x 2 columns]",
      "text/html": "<div>\n<style scoped>\n    .dataframe tbody tr th:only-of-type {\n        vertical-align: middle;\n    }\n\n    .dataframe tbody tr th {\n        vertical-align: top;\n    }\n\n    .dataframe thead th {\n        text-align: right;\n    }\n</style>\n<table border=\"1\" class=\"dataframe\">\n  <thead>\n    <tr style=\"text-align: right;\">\n      <th></th>\n      <th>command</th>\n      <th>label</th>\n    </tr>\n  </thead>\n  <tbody>\n    <tr>\n      <th>0</th>\n      <td>Locate Mary pick up the orange from the dining...</td>\n      <td>B_find B_find_per B_take I_take O B_take_obj O...</td>\n    </tr>\n    <tr>\n      <th>1</th>\n      <td>Could you bring me some drinks from the microwave</td>\n      <td>O O B_take B_take_dest O B_take_obj O O B_take...</td>\n    </tr>\n    <tr>\n      <th>2</th>\n      <td>Robot please spot Jennifer at the entrance ret...</td>\n      <td>O O B_find B_find_per O O B_find_dest B_take O...</td>\n    </tr>\n    <tr>\n      <th>3</th>\n      <td>Please go to the end table locate Jennifer and...</td>\n      <td>O B_go O O B_go_dest I_go_dest B_find B_find_p...</td>\n    </tr>\n    <tr>\n      <th>4</th>\n      <td>Could you salute the woman dressed in a red co...</td>\n      <td>O O B_greet O B_greet_per I_greet_per I_greet_...</td>\n    </tr>\n    <tr>\n      <th>...</th>\n      <td>...</td>\n      <td>...</td>\n    </tr>\n    <tr>\n      <th>66188</th>\n      <td>Robot please get the orange from the sink loca...</td>\n      <td>O O B_take O B_take_obj O O B_take_sour B_find...</td>\n    </tr>\n    <tr>\n      <th>66190</th>\n      <td>Robot please place paprika on the desk get the...</td>\n      <td>O O B_take B_take_obj O O B_take_dest B_take O...</td>\n    </tr>\n    <tr>\n      <th>66191</th>\n      <td>Set sponge on the end table pinpoint Francis a...</td>\n      <td>B_take B_take_obj O O B_take_dest I_take_dest ...</td>\n    </tr>\n    <tr>\n      <th>66192</th>\n      <td>Spot Charlie in the corridor retrieve the oran...</td>\n      <td>B_find B_find_per O O B_find_dest B_take O B_t...</td>\n    </tr>\n    <tr>\n      <th>66193</th>\n      <td>Please offer something to drink to all the peo...</td>\n      <td>O B_take B_take_obj I_take_obj I_take_obj O B_...</td>\n    </tr>\n  </tbody>\n</table>\n<p>43726 rows × 2 columns</p>\n</div>"
     },
     "execution_count": 6,
     "metadata": {},
     "output_type": "execute_result"
    }
   ],
   "source": [
    "def rem_say(seq_in,seq_out,remove = True):\n",
    "    if remove:\n",
    "        say_idx = [i for i,labels in enumerate(seq_out) if 'B_say' in labels]\n",
    "        seq_in = [seq for i,seq in enumerate(seq_in) if i not in  say_idx]\n",
    "        seq_out = [seq for i,seq in enumerate(seq_out) if i not in  say_idx]\n",
    "    return seq_in, seq_out\n",
    "\n",
    "def rem_dups(com_lst, lab_lst, rem = True):\n",
    "    com_lst = [' '.join(lst) for lst in com_lst]\n",
    "    lab_lst = [' '.join(lst) for lst in lab_lst]\n",
    "    \n",
    "        \n",
    "    com_lst, lab_lst = rem_say(com_lst,lab_lst,remove = rem)\n",
    "    \n",
    "    df = pd.DataFrame (com_lst, columns = ['command'])\n",
    "    df['label'] = lab_lst\n",
    "    df2 = df.drop_duplicates(subset=[\"command\"], keep='first')\n",
    "    return df2\n",
    "\n",
    "df = rem_dups(seq_in,seq_out)\n",
    "df"
   ]
  },
  {
   "cell_type": "markdown",
   "metadata": {},
   "source": [
    "## Write intent files"
   ]
  },
  {
   "cell_type": "code",
   "execution_count": 7,
   "metadata": {},
   "outputs": [
    {
     "data": {
      "text/plain": "['PAD', 'O', 'go', 'guide', 'find', 'know', 'greet', 'follow', 'take']"
     },
     "execution_count": 7,
     "metadata": {},
     "output_type": "execute_result"
    }
   ],
   "source": [
    "def write_unique_intent(df):\n",
    "    label = df['label'].tolist()\n",
    "    label_lst = [l.split() for l in label]\n",
    "    # unique_labels\n",
    "    intents = [ele[2:]  for lst in label_lst for ele in lst  if ele.count('_')==1] #ele[2:] to remove the B_, I_\n",
    "    #intents.extend(['PAD', 'O'])\n",
    "    unique_intent = [*set(intents)]\n",
    "    unique_intent = ['PAD','O'] + unique_intent\n",
    "\n",
    "    with open('intent_label.txt','w') as f:\n",
    "        for intent in unique_intent:\n",
    "            f.write(intent)\n",
    "            f.write('\\n')\n",
    "    return unique_intent\n",
    "\n",
    "unique_intent = write_unique_intent(df)\n",
    "unique_intent"
   ]
  },
  {
   "cell_type": "markdown",
   "metadata": {},
   "source": [
    "# Train Dev Test split"
   ]
  },
  {
   "cell_type": "code",
   "execution_count": 8,
   "metadata": {},
   "outputs": [
    {
     "name": "stdout",
     "output_type": "stream",
     "text": [
      "train \n",
      "\n"
     ]
    },
    {
     "data": {
      "text/plain": "                                                  seq_in  \\\n0      Could you offer something to drink to all the ...   \n1      Pinpoint Francis accompany him to the bookcase...   \n2         Deliver to me the food at the top dining table   \n3      Hand me the cleaning stuff at the middle botto...   \n4      Could you locate Robin look for Alex at the en...   \n...                                                  ...   \n32789  Get acquainted with Patricia at the entrance t...   \n32790  Offer something to drink to all the people dre...   \n32791  Please take the paprika from the bookcase gras...   \n32792       Could you come behind the person at the desk   \n32793  Could you take the apple from the sink look fo...   \n\n                                                 seq_out  \n0      O O B_take B_take_obj I_take_obj I_take_obj O ...  \n1      B_find B_find_per B_guide B_guide_per O O B_gu...  \n2      B_take O B_take_dest O B_take_obj O O B_take_s...  \n3      B_take B_take_dest O B_take_obj I_take_obj O O...  \n4      O O B_find B_find_per B_find I_find B_find_per...  \n...                                                  ...  \n32789  O O B_know B_find_per O O B_find_dest O B_gree...  \n32790  B_take B_take_obj I_take_obj I_take_obj O B_ta...  \n32791  O B_take O B_take_obj O O B_take_sour B_take O...  \n32792  O O B_follow I_follow O B_follow_per O O B_fol...  \n32793  O O B_take O B_take_obj O O B_take_sour B_find...  \n\n[32794 rows x 2 columns]",
      "text/html": "<div>\n<style scoped>\n    .dataframe tbody tr th:only-of-type {\n        vertical-align: middle;\n    }\n\n    .dataframe tbody tr th {\n        vertical-align: top;\n    }\n\n    .dataframe thead th {\n        text-align: right;\n    }\n</style>\n<table border=\"1\" class=\"dataframe\">\n  <thead>\n    <tr style=\"text-align: right;\">\n      <th></th>\n      <th>seq_in</th>\n      <th>seq_out</th>\n    </tr>\n  </thead>\n  <tbody>\n    <tr>\n      <th>0</th>\n      <td>Could you offer something to drink to all the ...</td>\n      <td>O O B_take B_take_obj I_take_obj I_take_obj O ...</td>\n    </tr>\n    <tr>\n      <th>1</th>\n      <td>Pinpoint Francis accompany him to the bookcase...</td>\n      <td>B_find B_find_per B_guide B_guide_per O O B_gu...</td>\n    </tr>\n    <tr>\n      <th>2</th>\n      <td>Deliver to me the food at the top dining table</td>\n      <td>B_take O B_take_dest O B_take_obj O O B_take_s...</td>\n    </tr>\n    <tr>\n      <th>3</th>\n      <td>Hand me the cleaning stuff at the middle botto...</td>\n      <td>B_take B_take_dest O B_take_obj I_take_obj O O...</td>\n    </tr>\n    <tr>\n      <th>4</th>\n      <td>Could you locate Robin look for Alex at the en...</td>\n      <td>O O B_find B_find_per B_find I_find B_find_per...</td>\n    </tr>\n    <tr>\n      <th>...</th>\n      <td>...</td>\n      <td>...</td>\n    </tr>\n    <tr>\n      <th>32789</th>\n      <td>Get acquainted with Patricia at the entrance t...</td>\n      <td>O O B_know B_find_per O O B_find_dest O B_gree...</td>\n    </tr>\n    <tr>\n      <th>32790</th>\n      <td>Offer something to drink to all the people dre...</td>\n      <td>B_take B_take_obj I_take_obj I_take_obj O B_ta...</td>\n    </tr>\n    <tr>\n      <th>32791</th>\n      <td>Please take the paprika from the bookcase gras...</td>\n      <td>O B_take O B_take_obj O O B_take_sour B_take O...</td>\n    </tr>\n    <tr>\n      <th>32792</th>\n      <td>Could you come behind the person at the desk</td>\n      <td>O O B_follow I_follow O B_follow_per O O B_fol...</td>\n    </tr>\n    <tr>\n      <th>32793</th>\n      <td>Could you take the apple from the sink look fo...</td>\n      <td>O O B_take O B_take_obj O O B_take_sour B_find...</td>\n    </tr>\n  </tbody>\n</table>\n<p>32794 rows × 2 columns</p>\n</div>"
     },
     "metadata": {},
     "output_type": "display_data"
    },
    {
     "name": "stdout",
     "output_type": "stream",
     "text": [
      "------------------------------------------------------------------\n",
      "dev \n",
      "\n"
     ]
    },
    {
     "data": {
      "text/plain": "                                                 seq_in  \\\n0     Offer something to eat to all the children dre...   \n1     Enter to the living room look for Skyler and f...   \n2     Enter to the bedroom pinpoint Alex and locate ...   \n3     Leave a bowl on the storage table and a spoon ...   \n4     Bring the orange to the man wearing a yellow s...   \n...                                                 ...   \n2181  Could you please leave a dish on the storage t...   \n2182  Navigate to the dining room locate the fruits ...   \n2183  Offer something to drink to all the people dre...   \n2184  Place a snacks on the bookcase spot Charlie at...   \n2185  Pick up a food from the counter and put it int...   \n\n                                                seq_out  \n0     B_take B_take_obj I_take_obj I_take_obj O B_ta...  \n1     B_go O O B_go_dest I_go_dest B_find I_find B_f...  \n2     B_go O O B_go_dest B_find B_find_per O B_find ...  \n3     B_take O B_take_obj O O B_take_dest I_take_des...  \n4     B_take O B_take_obj O O B_take_dest I_take_des...  \n...                                                 ...  \n2181  O O O B_take O B_take_obj O O B_take_dest I_ta...  \n2182  B_go O O B_go_dest I_go_dest B_find O B_find_o...  \n2183  B_take B_take_obj I_take_obj I_take_obj O B_ta...  \n2184  B_take O B_take_obj O O B_take_dest B_find B_f...  \n2185  B_take O O B_take_obj O O B_take_sour O B_take...  \n\n[2186 rows x 2 columns]",
      "text/html": "<div>\n<style scoped>\n    .dataframe tbody tr th:only-of-type {\n        vertical-align: middle;\n    }\n\n    .dataframe tbody tr th {\n        vertical-align: top;\n    }\n\n    .dataframe thead th {\n        text-align: right;\n    }\n</style>\n<table border=\"1\" class=\"dataframe\">\n  <thead>\n    <tr style=\"text-align: right;\">\n      <th></th>\n      <th>seq_in</th>\n      <th>seq_out</th>\n    </tr>\n  </thead>\n  <tbody>\n    <tr>\n      <th>0</th>\n      <td>Offer something to eat to all the children dre...</td>\n      <td>B_take B_take_obj I_take_obj I_take_obj O B_ta...</td>\n    </tr>\n    <tr>\n      <th>1</th>\n      <td>Enter to the living room look for Skyler and f...</td>\n      <td>B_go O O B_go_dest I_go_dest B_find I_find B_f...</td>\n    </tr>\n    <tr>\n      <th>2</th>\n      <td>Enter to the bedroom pinpoint Alex and locate ...</td>\n      <td>B_go O O B_go_dest B_find B_find_per O B_find ...</td>\n    </tr>\n    <tr>\n      <th>3</th>\n      <td>Leave a bowl on the storage table and a spoon ...</td>\n      <td>B_take O B_take_obj O O B_take_dest I_take_des...</td>\n    </tr>\n    <tr>\n      <th>4</th>\n      <td>Bring the orange to the man wearing a yellow s...</td>\n      <td>B_take O B_take_obj O O B_take_dest I_take_des...</td>\n    </tr>\n    <tr>\n      <th>...</th>\n      <td>...</td>\n      <td>...</td>\n    </tr>\n    <tr>\n      <th>2181</th>\n      <td>Could you please leave a dish on the storage t...</td>\n      <td>O O O B_take O B_take_obj O O B_take_dest I_ta...</td>\n    </tr>\n    <tr>\n      <th>2182</th>\n      <td>Navigate to the dining room locate the fruits ...</td>\n      <td>B_go O O B_go_dest I_go_dest B_find O B_find_o...</td>\n    </tr>\n    <tr>\n      <th>2183</th>\n      <td>Offer something to drink to all the people dre...</td>\n      <td>B_take B_take_obj I_take_obj I_take_obj O B_ta...</td>\n    </tr>\n    <tr>\n      <th>2184</th>\n      <td>Place a snacks on the bookcase spot Charlie at...</td>\n      <td>B_take O B_take_obj O O B_take_dest B_find B_f...</td>\n    </tr>\n    <tr>\n      <th>2185</th>\n      <td>Pick up a food from the counter and put it int...</td>\n      <td>B_take O O B_take_obj O O B_take_sour O B_take...</td>\n    </tr>\n  </tbody>\n</table>\n<p>2186 rows × 2 columns</p>\n</div>"
     },
     "metadata": {},
     "output_type": "display_data"
    },
    {
     "name": "stdout",
     "output_type": "stream",
     "text": [
      "------------------------------------------------------------------\n",
      "test \n",
      "\n"
     ]
    },
    {
     "data": {
      "text/plain": "                                                 seq_in  \\\n0     Look for the orange set apple on the sink and ...   \n1     Locate Alex in the bedroom find Linda and retr...   \n2     Pick up the apple from the bookcase set it to ...   \n3     Leave a bowl on the storage table and a knife ...   \n4     Robot please take the person at the exit to th...   \n...                                                 ...   \n8741  Get the apple from the counter leave a fruits ...   \n8742  Robot please find Francis in the dining room p...   \n8743  Offer something to drink to all the men pointi...   \n8744  Robot please accompany the person at the sink ...   \n8745  Grasp the fruits from the counter take the app...   \n\n                                                seq_out  \n0     B_find I_find O B_find_obj B_take B_take_obj O...  \n1     B_find B_find_per O O B_find_dest B_find B_fin...  \n2     B_take I_take O B_take_obj O O B_take_sour B_t...  \n3     B_take O B_take_obj O O B_take_dest I_take_des...  \n4     O O B_guide O B_guide_per O O B_guide_sour O O...  \n...                                                 ...  \n8741  B_take O B_take_obj O O B_take_sour B_take O B...  \n8742  O O B_find B_find_per O O B_find_dest I_find_d...  \n8743  B_take B_take_obj I_take_obj I_take_obj O B_ta...  \n8744  O O B_guide O B_guide_per O O B_guide_sour O O...  \n8745  B_take O B_take_obj O O B_take_sour B_take O B...  \n\n[8746 rows x 2 columns]",
      "text/html": "<div>\n<style scoped>\n    .dataframe tbody tr th:only-of-type {\n        vertical-align: middle;\n    }\n\n    .dataframe tbody tr th {\n        vertical-align: top;\n    }\n\n    .dataframe thead th {\n        text-align: right;\n    }\n</style>\n<table border=\"1\" class=\"dataframe\">\n  <thead>\n    <tr style=\"text-align: right;\">\n      <th></th>\n      <th>seq_in</th>\n      <th>seq_out</th>\n    </tr>\n  </thead>\n  <tbody>\n    <tr>\n      <th>0</th>\n      <td>Look for the orange set apple on the sink and ...</td>\n      <td>B_find I_find O B_find_obj B_take B_take_obj O...</td>\n    </tr>\n    <tr>\n      <th>1</th>\n      <td>Locate Alex in the bedroom find Linda and retr...</td>\n      <td>B_find B_find_per O O B_find_dest B_find B_fin...</td>\n    </tr>\n    <tr>\n      <th>2</th>\n      <td>Pick up the apple from the bookcase set it to ...</td>\n      <td>B_take I_take O B_take_obj O O B_take_sour B_t...</td>\n    </tr>\n    <tr>\n      <th>3</th>\n      <td>Leave a bowl on the storage table and a knife ...</td>\n      <td>B_take O B_take_obj O O B_take_dest I_take_des...</td>\n    </tr>\n    <tr>\n      <th>4</th>\n      <td>Robot please take the person at the exit to th...</td>\n      <td>O O B_guide O B_guide_per O O B_guide_sour O O...</td>\n    </tr>\n    <tr>\n      <th>...</th>\n      <td>...</td>\n      <td>...</td>\n    </tr>\n    <tr>\n      <th>8741</th>\n      <td>Get the apple from the counter leave a fruits ...</td>\n      <td>B_take O B_take_obj O O B_take_sour B_take O B...</td>\n    </tr>\n    <tr>\n      <th>8742</th>\n      <td>Robot please find Francis in the dining room p...</td>\n      <td>O O B_find B_find_per O O B_find_dest I_find_d...</td>\n    </tr>\n    <tr>\n      <th>8743</th>\n      <td>Offer something to drink to all the men pointi...</td>\n      <td>B_take B_take_obj I_take_obj I_take_obj O B_ta...</td>\n    </tr>\n    <tr>\n      <th>8744</th>\n      <td>Robot please accompany the person at the sink ...</td>\n      <td>O O B_guide O B_guide_per O O B_guide_sour O O...</td>\n    </tr>\n    <tr>\n      <th>8745</th>\n      <td>Grasp the fruits from the counter take the app...</td>\n      <td>B_take O B_take_obj O O B_take_sour B_take O B...</td>\n    </tr>\n  </tbody>\n</table>\n<p>8746 rows × 2 columns</p>\n</div>"
     },
     "metadata": {},
     "output_type": "display_data"
    },
    {
     "name": "stdout",
     "output_type": "stream",
     "text": [
      "------------------------------------------------------------------\n"
     ]
    }
   ],
   "source": [
    "from sklearn.model_selection import train_test_split\n",
    "\n",
    "def split(seq_in,seq_out):\n",
    "    # split the train out of the rest\n",
    "    X_train, X_dev_test, Y_train, Y_dev_test = train_test_split(seq_in, seq_out, test_size=0.25, random_state=42)\n",
    "\n",
    "    #split the val and test\n",
    "    X_dev, X_test, Y_dev, Y_test = train_test_split(X_dev_test, Y_dev_test, test_size=0.8, random_state=42)\n",
    "    \n",
    "    df_train = pd.DataFrame({'seq_in': X_train, 'seq_out': Y_train})\n",
    "    df_dev = pd.DataFrame({'seq_in': X_dev, 'seq_out': Y_dev})\n",
    "    df_test = pd.DataFrame({'seq_in': X_test, 'seq_out': Y_test})\n",
    "    \n",
    "    env_dict = {'train' : df_train,\n",
    "               'dev' : df_dev,\n",
    "               'test' : df_test}\n",
    "    return env_dict\n",
    "\n",
    "    \n",
    "env_dict = split(df['command'].tolist(),df['label'].tolist())\n",
    "for env,df in env_dict.items():\n",
    "    print(env,'\\n')\n",
    "    display(df)\n",
    "    print('------------------------------------------------------------------')"
   ]
  },
  {
   "cell_type": "code",
   "execution_count": 9,
   "metadata": {},
   "outputs": [
    {
     "name": "stdout",
     "output_type": "stream",
     "text": [
      "Take the smallest food from the counter to the end table\n"
     ]
    },
    {
     "data": {
      "text/plain": "'B_take O B_take_obj I_take_obj O O B_take_sour O O B_take_dest I_take_dest'"
     },
     "execution_count": 9,
     "metadata": {},
     "output_type": "execute_result"
    }
   ],
   "source": [
    "print(env_dict['train']['seq_in'][35])\n",
    "env_dict['train']['seq_out'][35]"
   ]
  },
  {
   "cell_type": "code",
   "execution_count": 11,
   "metadata": {},
   "outputs": [
    {
     "name": "stdout",
     "output_type": "stream",
     "text": [
      "train \n",
      "\n"
     ]
    },
    {
     "data": {
      "text/plain": "                                                  seq_in  \\\n0      Could you offer something to drink to all the ...   \n1      Pinpoint Francis accompany him to the bookcase...   \n2         Deliver to me the food at the top dining table   \n3      Hand me the cleaning stuff at the middle botto...   \n4      Could you locate Robin look for Alex at the en...   \n...                                                  ...   \n32789  Get acquainted with Patricia at the entrance t...   \n32790  Offer something to drink to all the people dre...   \n32791  Please take the paprika from the bookcase gras...   \n32792       Could you come behind the person at the desk   \n32793  Could you take the apple from the sink look fo...   \n\n                                                 seq_out  \\\n0      [O, O, O, B-obj, I-obj, I-obj, O, B-dest, I-de...   \n1      [O, B-per, O, B-per, O, O, B-dest, O, O, O, B-...   \n2      [O, O, B-dest, O, B-obj, O, O, B-sour, I-sour,...   \n3      [O, B-dest, O, B-obj, I-obj, O, O, B-sour, I-s...   \n4      [O, O, O, B-per, O, O, B-per, O, O, B-dest, I-...   \n...                                                  ...   \n32789     [O, O, O, B-per, O, O, B-dest, O, O, B-per, O]   \n32790  [O, B-obj, I-obj, I-obj, O, B-dest, I-dest, I-...   \n32791  [O, O, O, B-obj, O, O, B-sour, O, O, B-obj, O,...   \n32792               [O, O, O, O, O, B-per, O, O, B-sour]   \n32793  [O, O, O, O, B-obj, O, O, B-sour, O, O, B-per,...   \n\n                                              seq_intent  \\\n0      [O, O, O, take, take, take, O, take, take, tak...   \n1      [O, find, O, guide, O, O, guide, O, O, O, take...   \n2          [O, O, take, O, take, O, O, take, take, take]   \n3      [O, take, O, take, take, O, O, take, take, tak...   \n4      [O, O, O, find, O, O, find, O, O, find, find, ...   \n...                                                  ...   \n32789        [O, O, O, find, O, O, find, O, O, greet, O]   \n32790  [O, take, take, take, O, take, take, take, tak...   \n32791  [O, O, O, take, O, O, take, O, O, take, O, O, ...   \n32792              [O, O, O, O, O, follow, O, O, follow]   \n32793  [O, O, O, O, take, O, O, take, O, O, find, O, ...   \n\n                       label  \n0                     [take]  \n1      [find#, guide#, take]  \n2                     [take]  \n3                     [take]  \n4             [find#, guide]  \n...                      ...  \n32789         [find#, greet]  \n32790                 [take]  \n32791                 [take]  \n32792               [follow]  \n32793          [take#, find]  \n\n[32794 rows x 4 columns]",
      "text/html": "<div>\n<style scoped>\n    .dataframe tbody tr th:only-of-type {\n        vertical-align: middle;\n    }\n\n    .dataframe tbody tr th {\n        vertical-align: top;\n    }\n\n    .dataframe thead th {\n        text-align: right;\n    }\n</style>\n<table border=\"1\" class=\"dataframe\">\n  <thead>\n    <tr style=\"text-align: right;\">\n      <th></th>\n      <th>seq_in</th>\n      <th>seq_out</th>\n      <th>seq_intent</th>\n      <th>label</th>\n    </tr>\n  </thead>\n  <tbody>\n    <tr>\n      <th>0</th>\n      <td>Could you offer something to drink to all the ...</td>\n      <td>[O, O, O, B-obj, I-obj, I-obj, O, B-dest, I-de...</td>\n      <td>[O, O, O, take, take, take, O, take, take, tak...</td>\n      <td>[take]</td>\n    </tr>\n    <tr>\n      <th>1</th>\n      <td>Pinpoint Francis accompany him to the bookcase...</td>\n      <td>[O, B-per, O, B-per, O, O, B-dest, O, O, O, B-...</td>\n      <td>[O, find, O, guide, O, O, guide, O, O, O, take...</td>\n      <td>[find#, guide#, take]</td>\n    </tr>\n    <tr>\n      <th>2</th>\n      <td>Deliver to me the food at the top dining table</td>\n      <td>[O, O, B-dest, O, B-obj, O, O, B-sour, I-sour,...</td>\n      <td>[O, O, take, O, take, O, O, take, take, take]</td>\n      <td>[take]</td>\n    </tr>\n    <tr>\n      <th>3</th>\n      <td>Hand me the cleaning stuff at the middle botto...</td>\n      <td>[O, B-dest, O, B-obj, I-obj, O, O, B-sour, I-s...</td>\n      <td>[O, take, O, take, take, O, O, take, take, tak...</td>\n      <td>[take]</td>\n    </tr>\n    <tr>\n      <th>4</th>\n      <td>Could you locate Robin look for Alex at the en...</td>\n      <td>[O, O, O, B-per, O, O, B-per, O, O, B-dest, I-...</td>\n      <td>[O, O, O, find, O, O, find, O, O, find, find, ...</td>\n      <td>[find#, guide]</td>\n    </tr>\n    <tr>\n      <th>...</th>\n      <td>...</td>\n      <td>...</td>\n      <td>...</td>\n      <td>...</td>\n    </tr>\n    <tr>\n      <th>32789</th>\n      <td>Get acquainted with Patricia at the entrance t...</td>\n      <td>[O, O, O, B-per, O, O, B-dest, O, O, B-per, O]</td>\n      <td>[O, O, O, find, O, O, find, O, O, greet, O]</td>\n      <td>[find#, greet]</td>\n    </tr>\n    <tr>\n      <th>32790</th>\n      <td>Offer something to drink to all the people dre...</td>\n      <td>[O, B-obj, I-obj, I-obj, O, B-dest, I-dest, I-...</td>\n      <td>[O, take, take, take, O, take, take, take, tak...</td>\n      <td>[take]</td>\n    </tr>\n    <tr>\n      <th>32791</th>\n      <td>Please take the paprika from the bookcase gras...</td>\n      <td>[O, O, O, B-obj, O, O, B-sour, O, O, B-obj, O,...</td>\n      <td>[O, O, O, take, O, O, take, O, O, take, O, O, ...</td>\n      <td>[take]</td>\n    </tr>\n    <tr>\n      <th>32792</th>\n      <td>Could you come behind the person at the desk</td>\n      <td>[O, O, O, O, O, B-per, O, O, B-sour]</td>\n      <td>[O, O, O, O, O, follow, O, O, follow]</td>\n      <td>[follow]</td>\n    </tr>\n    <tr>\n      <th>32793</th>\n      <td>Could you take the apple from the sink look fo...</td>\n      <td>[O, O, O, O, B-obj, O, O, B-sour, O, O, B-per,...</td>\n      <td>[O, O, O, O, take, O, O, take, O, O, find, O, ...</td>\n      <td>[take#, find]</td>\n    </tr>\n  </tbody>\n</table>\n<p>32794 rows × 4 columns</p>\n</div>"
     },
     "metadata": {},
     "output_type": "display_data"
    },
    {
     "name": "stdout",
     "output_type": "stream",
     "text": [
      "------------------------------------------------------------------\n",
      "dev \n",
      "\n"
     ]
    },
    {
     "data": {
      "text/plain": "                                                 seq_in  \\\n0     Offer something to eat to all the children dre...   \n1     Enter to the living room look for Skyler and f...   \n2     Enter to the bedroom pinpoint Alex and locate ...   \n3     Leave a bowl on the storage table and a spoon ...   \n4     Bring the orange to the man wearing a yellow s...   \n...                                                 ...   \n2181  Could you please leave a dish on the storage t...   \n2182  Navigate to the dining room locate the fruits ...   \n2183  Offer something to drink to all the people dre...   \n2184  Place a snacks on the bookcase spot Charlie at...   \n2185  Pick up a food from the counter and put it int...   \n\n                                                seq_out  \\\n0     [O, B-obj, I-obj, I-obj, O, B-dest, I-dest, I-...   \n1     [O, O, O, B-dest, I-dest, O, O, B-per, O, O, B...   \n2     [O, O, O, B-dest, O, B-per, O, O, B-per, O, O,...   \n3     [O, O, B-obj, O, O, B-dest, I-dest, O, O, B-ob...   \n4     [O, O, B-obj, O, O, B-dest, I-dest, I-dest, I-...   \n...                                                 ...   \n2181  [O, O, O, O, O, B-obj, O, O, B-dest, I-dest, O...   \n2182  [O, O, O, B-dest, I-dest, O, O, B-obj, O, O, O...   \n2183  [O, B-obj, I-obj, I-obj, O, B-dest, I-dest, I-...   \n2184  [O, O, B-obj, O, O, B-dest, O, B-per, O, O, B-...   \n2185  [O, O, O, B-obj, O, O, B-sour, O, O, B-obj, O,...   \n\n                                             seq_intent                 label  \n0     [O, take, take, take, O, take, take, take, tak...                [take]  \n1           [O, O, O, go, go, O, O, find, O, O, follow]  [go#, find#, follow]  \n2     [O, O, O, go, O, find, O, O, find, O, O, find,...           [go#, find]  \n3     [O, O, take, O, O, take, take, O, O, take, O, ...                [take]  \n4     [O, O, take, O, O, take, take, take, take, tak...                [take]  \n...                                                 ...                   ...  \n2181  [O, O, O, O, O, take, O, O, take, take, O, O, ...                [take]  \n2182  [O, O, O, go, go, O, O, find, O, O, O, take, O...    [go#, find#, take]  \n2183  [O, take, take, take, O, take, take, take, tak...                [take]  \n2184  [O, O, take, O, O, take, O, find, O, O, find, ...         [take#, find]  \n2185  [O, O, O, take, O, O, take, O, O, take, O, O, ...                [take]  \n\n[2186 rows x 4 columns]",
      "text/html": "<div>\n<style scoped>\n    .dataframe tbody tr th:only-of-type {\n        vertical-align: middle;\n    }\n\n    .dataframe tbody tr th {\n        vertical-align: top;\n    }\n\n    .dataframe thead th {\n        text-align: right;\n    }\n</style>\n<table border=\"1\" class=\"dataframe\">\n  <thead>\n    <tr style=\"text-align: right;\">\n      <th></th>\n      <th>seq_in</th>\n      <th>seq_out</th>\n      <th>seq_intent</th>\n      <th>label</th>\n    </tr>\n  </thead>\n  <tbody>\n    <tr>\n      <th>0</th>\n      <td>Offer something to eat to all the children dre...</td>\n      <td>[O, B-obj, I-obj, I-obj, O, B-dest, I-dest, I-...</td>\n      <td>[O, take, take, take, O, take, take, take, tak...</td>\n      <td>[take]</td>\n    </tr>\n    <tr>\n      <th>1</th>\n      <td>Enter to the living room look for Skyler and f...</td>\n      <td>[O, O, O, B-dest, I-dest, O, O, B-per, O, O, B...</td>\n      <td>[O, O, O, go, go, O, O, find, O, O, follow]</td>\n      <td>[go#, find#, follow]</td>\n    </tr>\n    <tr>\n      <th>2</th>\n      <td>Enter to the bedroom pinpoint Alex and locate ...</td>\n      <td>[O, O, O, B-dest, O, B-per, O, O, B-per, O, O,...</td>\n      <td>[O, O, O, go, O, find, O, O, find, O, O, find,...</td>\n      <td>[go#, find]</td>\n    </tr>\n    <tr>\n      <th>3</th>\n      <td>Leave a bowl on the storage table and a spoon ...</td>\n      <td>[O, O, B-obj, O, O, B-dest, I-dest, O, O, B-ob...</td>\n      <td>[O, O, take, O, O, take, take, O, O, take, O, ...</td>\n      <td>[take]</td>\n    </tr>\n    <tr>\n      <th>4</th>\n      <td>Bring the orange to the man wearing a yellow s...</td>\n      <td>[O, O, B-obj, O, O, B-dest, I-dest, I-dest, I-...</td>\n      <td>[O, O, take, O, O, take, take, take, take, tak...</td>\n      <td>[take]</td>\n    </tr>\n    <tr>\n      <th>...</th>\n      <td>...</td>\n      <td>...</td>\n      <td>...</td>\n      <td>...</td>\n    </tr>\n    <tr>\n      <th>2181</th>\n      <td>Could you please leave a dish on the storage t...</td>\n      <td>[O, O, O, O, O, B-obj, O, O, B-dest, I-dest, O...</td>\n      <td>[O, O, O, O, O, take, O, O, take, take, O, O, ...</td>\n      <td>[take]</td>\n    </tr>\n    <tr>\n      <th>2182</th>\n      <td>Navigate to the dining room locate the fruits ...</td>\n      <td>[O, O, O, B-dest, I-dest, O, O, B-obj, O, O, O...</td>\n      <td>[O, O, O, go, go, O, O, find, O, O, O, take, O...</td>\n      <td>[go#, find#, take]</td>\n    </tr>\n    <tr>\n      <th>2183</th>\n      <td>Offer something to drink to all the people dre...</td>\n      <td>[O, B-obj, I-obj, I-obj, O, B-dest, I-dest, I-...</td>\n      <td>[O, take, take, take, O, take, take, take, tak...</td>\n      <td>[take]</td>\n    </tr>\n    <tr>\n      <th>2184</th>\n      <td>Place a snacks on the bookcase spot Charlie at...</td>\n      <td>[O, O, B-obj, O, O, B-dest, O, B-per, O, O, B-...</td>\n      <td>[O, O, take, O, O, take, O, find, O, O, find, ...</td>\n      <td>[take#, find]</td>\n    </tr>\n    <tr>\n      <th>2185</th>\n      <td>Pick up a food from the counter and put it int...</td>\n      <td>[O, O, O, B-obj, O, O, B-sour, O, O, B-obj, O,...</td>\n      <td>[O, O, O, take, O, O, take, O, O, take, O, O, ...</td>\n      <td>[take]</td>\n    </tr>\n  </tbody>\n</table>\n<p>2186 rows × 4 columns</p>\n</div>"
     },
     "metadata": {},
     "output_type": "display_data"
    },
    {
     "name": "stdout",
     "output_type": "stream",
     "text": [
      "------------------------------------------------------------------\n",
      "test \n",
      "\n"
     ]
    },
    {
     "data": {
      "text/plain": "                                                 seq_in  \\\n0     Look for the orange set apple on the sink and ...   \n1     Locate Alex in the bedroom find Linda and retr...   \n2     Pick up the apple from the bookcase set it to ...   \n3     Leave a bowl on the storage table and a knife ...   \n4     Robot please take the person at the exit to th...   \n...                                                 ...   \n8741  Get the apple from the counter leave a fruits ...   \n8742  Robot please find Francis in the dining room p...   \n8743  Offer something to drink to all the men pointi...   \n8744  Robot please accompany the person at the sink ...   \n8745  Grasp the fruits from the counter take the app...   \n\n                                                seq_out  \\\n0     [O, O, O, B-obj, O, B-obj, O, O, B-dest, O, O,...   \n1     [O, B-per, O, O, B-dest, O, B-per, O, O, O, B-...   \n2     [O, O, O, B-obj, O, O, B-sour, O, B-obj, O, O,...   \n3     [O, O, B-obj, O, O, B-dest, I-dest, O, O, B-ob...   \n4     [O, O, O, O, B-per, O, O, B-sour, O, O, B-dest...   \n...                                                 ...   \n8741  [O, O, B-obj, O, O, B-sour, O, O, B-obj, O, O,...   \n8742  [O, O, O, B-per, O, O, B-dest, I-dest, O, O, B...   \n8743  [O, B-obj, I-obj, I-obj, O, B-dest, I-dest, I-...   \n8744  [O, O, O, O, B-per, O, O, B-sour, O, O, B-dest...   \n8745  [O, O, B-obj, O, O, B-sour, O, O, B-obj, O, O,...   \n\n                                             seq_intent          label  \n0     [O, O, O, find, O, take, O, O, take, O, O, O, ...  [find#, take]  \n1     [O, find, O, O, find, O, find, O, O, O, take, ...  [find#, take]  \n2     [O, O, O, take, O, O, take, O, take, O, O, tak...  [take#, find]  \n3     [O, O, take, O, O, take, take, O, O, take, O, ...         [take]  \n4     [O, O, O, O, guide, O, O, guide, O, O, guide, ...        [guide]  \n...                                                 ...            ...  \n8741  [O, O, take, O, O, take, O, O, take, O, O, tak...  [take#, find]  \n8742  [O, O, O, find, O, O, find, find, O, O, take, ...  [find#, take]  \n8743  [O, take, take, take, O, take, take, take, tak...         [take]  \n8744  [O, O, O, O, guide, O, O, guide, O, O, guide, ...        [guide]  \n8745  [O, O, take, O, O, take, O, O, take, O, O, tak...         [take]  \n\n[8746 rows x 4 columns]",
      "text/html": "<div>\n<style scoped>\n    .dataframe tbody tr th:only-of-type {\n        vertical-align: middle;\n    }\n\n    .dataframe tbody tr th {\n        vertical-align: top;\n    }\n\n    .dataframe thead th {\n        text-align: right;\n    }\n</style>\n<table border=\"1\" class=\"dataframe\">\n  <thead>\n    <tr style=\"text-align: right;\">\n      <th></th>\n      <th>seq_in</th>\n      <th>seq_out</th>\n      <th>seq_intent</th>\n      <th>label</th>\n    </tr>\n  </thead>\n  <tbody>\n    <tr>\n      <th>0</th>\n      <td>Look for the orange set apple on the sink and ...</td>\n      <td>[O, O, O, B-obj, O, B-obj, O, O, B-dest, O, O,...</td>\n      <td>[O, O, O, find, O, take, O, O, take, O, O, O, ...</td>\n      <td>[find#, take]</td>\n    </tr>\n    <tr>\n      <th>1</th>\n      <td>Locate Alex in the bedroom find Linda and retr...</td>\n      <td>[O, B-per, O, O, B-dest, O, B-per, O, O, O, B-...</td>\n      <td>[O, find, O, O, find, O, find, O, O, O, take, ...</td>\n      <td>[find#, take]</td>\n    </tr>\n    <tr>\n      <th>2</th>\n      <td>Pick up the apple from the bookcase set it to ...</td>\n      <td>[O, O, O, B-obj, O, O, B-sour, O, B-obj, O, O,...</td>\n      <td>[O, O, O, take, O, O, take, O, take, O, O, tak...</td>\n      <td>[take#, find]</td>\n    </tr>\n    <tr>\n      <th>3</th>\n      <td>Leave a bowl on the storage table and a knife ...</td>\n      <td>[O, O, B-obj, O, O, B-dest, I-dest, O, O, B-ob...</td>\n      <td>[O, O, take, O, O, take, take, O, O, take, O, ...</td>\n      <td>[take]</td>\n    </tr>\n    <tr>\n      <th>4</th>\n      <td>Robot please take the person at the exit to th...</td>\n      <td>[O, O, O, O, B-per, O, O, B-sour, O, O, B-dest...</td>\n      <td>[O, O, O, O, guide, O, O, guide, O, O, guide, ...</td>\n      <td>[guide]</td>\n    </tr>\n    <tr>\n      <th>...</th>\n      <td>...</td>\n      <td>...</td>\n      <td>...</td>\n      <td>...</td>\n    </tr>\n    <tr>\n      <th>8741</th>\n      <td>Get the apple from the counter leave a fruits ...</td>\n      <td>[O, O, B-obj, O, O, B-sour, O, O, B-obj, O, O,...</td>\n      <td>[O, O, take, O, O, take, O, O, take, O, O, tak...</td>\n      <td>[take#, find]</td>\n    </tr>\n    <tr>\n      <th>8742</th>\n      <td>Robot please find Francis in the dining room p...</td>\n      <td>[O, O, O, B-per, O, O, B-dest, I-dest, O, O, B...</td>\n      <td>[O, O, O, find, O, O, find, find, O, O, take, ...</td>\n      <td>[find#, take]</td>\n    </tr>\n    <tr>\n      <th>8743</th>\n      <td>Offer something to drink to all the men pointi...</td>\n      <td>[O, B-obj, I-obj, I-obj, O, B-dest, I-dest, I-...</td>\n      <td>[O, take, take, take, O, take, take, take, tak...</td>\n      <td>[take]</td>\n    </tr>\n    <tr>\n      <th>8744</th>\n      <td>Robot please accompany the person at the sink ...</td>\n      <td>[O, O, O, O, B-per, O, O, B-sour, O, O, B-dest...</td>\n      <td>[O, O, O, O, guide, O, O, guide, O, O, guide, ...</td>\n      <td>[guide]</td>\n    </tr>\n    <tr>\n      <th>8745</th>\n      <td>Grasp the fruits from the counter take the app...</td>\n      <td>[O, O, B-obj, O, O, B-sour, O, O, B-obj, O, O,...</td>\n      <td>[O, O, take, O, O, take, O, O, take, O, O, tak...</td>\n      <td>[take]</td>\n    </tr>\n  </tbody>\n</table>\n<p>8746 rows × 4 columns</p>\n</div>"
     },
     "metadata": {},
     "output_type": "display_data"
    },
    {
     "name": "stdout",
     "output_type": "stream",
     "text": [
      "------------------------------------------------------------------\n"
     ]
    }
   ],
   "source": [
    "def write(f_name,data_lst, space = True):\n",
    "    with open(f_name, 'w') as f:\n",
    "        for lst in data_lst:\n",
    "            if space == True:\n",
    "                com = ' '.join(lst)\n",
    "            else:\n",
    "                com = ''.join(lst)\n",
    "            f.write(com)\n",
    "            f.write('\\n')\n",
    "\n",
    "\n",
    "# def gen_files(env_name, data_df, unique_intent):\n",
    "#     # get seq out\n",
    "#     lab_lst = [ele.split() for ele in data_df['seq_out'].tolist()]\n",
    "#     #get seq in\n",
    "#     com_lst = [ele.split() for ele in data_df['seq_in'].tolist()]\n",
    "#\n",
    "#     # get intent out\n",
    "#     int_lst = []\n",
    "#     for sample_lab in lab_lst:\n",
    "#         lst = []\n",
    "#         for ele in sample_lab:\n",
    "#             if '_' not in ele:\n",
    "#                 lst.append('O')\n",
    "#             else:\n",
    "#                 start = ele.find('_') + 1\n",
    "#                 if ele.count('_') == 2:\n",
    "#                     end = ele.rfind('_')\n",
    "#                     lst.append(ele[start:end])\n",
    "# #################### turns out we don't need to label the verb ###################\n",
    "#                 else:\n",
    "#                     lst.append('O') # verb -> 'O'\n",
    "# #                     lst.append(ele[start:])\n",
    "#\n",
    "#\n",
    "#         int_lst.append(lst)\n",
    "#\n",
    "#     # get label\n",
    "#     label = []\n",
    "#     for lab_seq in int_lst:\n",
    "#         lst = []\n",
    "#         for lab in lab_seq:\n",
    "#             if lab == 'O':\n",
    "#                 continue\n",
    "#             elif len(lst) == 0:\n",
    "#                 lst.append(lab)\n",
    "#             elif lab != lst[-1]:\n",
    "#                 lst.append(lab)\n",
    "#         hash_taged = [ele+'#' if i != len(lst)-1 else ele for i,ele in enumerate(lst)]\n",
    "#         label.append(hash_taged)\n",
    "#\n",
    "#\n",
    "#     # get seq out\n",
    "#     # 1. remove the intent label out of the seq out\n",
    "#     lab_lst = [ele.split() for ele in data_df['seq_out'].tolist()]\n",
    "#     lab_lst = [[ele if ele.count('_') == 2 else 'O' for ele in lst] for lst in lab_lst]\n",
    "#     # 2. remove the intentions names in the slot names\n",
    "#     slot_seq = []\n",
    "#     for ite,one_seq in enumerate(lab_lst):\n",
    "#         lst = []\n",
    "#         for slot in one_seq:\n",
    "#\n",
    "#             if slot == 'O':\n",
    "#                 lst.append('O')\n",
    "#             else:\n",
    "#                 for uni_inte in unique_intent: #ite through all possible uni slots\n",
    "#                     idx1 = slot.find(uni_inte) # find whether this uni slot is in current seq slot labels\n",
    "#                     if idx1 != -1:\n",
    "#                         s = slot.replace(slot[idx1 : idx1+len(uni_inte)+1],'')\n",
    "#                         s = s.replace('_','-')\n",
    "#                         lst.append(s)\n",
    "#                         continue\n",
    "#             #print(lst)\n",
    "#\n",
    "#         slot_seq.append(lst)\n",
    "#\n",
    "#     df = data_df.copy()\n",
    "#     df['seq_out'] = slot_seq\n",
    "#     df['seq_intent'] = int_lst\n",
    "#     df['label'] = label\n",
    "#\n",
    "#\n",
    "#     # write all files\n",
    "#     write(f'./{env_name}/seq.in',com_lst)\n",
    "#     write(f'./{env_name}/seq.out',slot_seq)\n",
    "#     write(f'./{env_name}/seq_intent.out',int_lst)\n",
    "#     write(f'./{env_name}/label',label, False)\n",
    "#\n",
    "#     return df\n",
    "\n",
    "\n",
    "\n",
    "\n",
    "\n",
    "\n",
    "\n",
    "\n",
    "\n",
    "\n",
    "\n",
    "\n",
    "def gen_files(env_name, data_df, unique_intent):\n",
    "    # get seq out\n",
    "    lab_lst = [ele.split() for ele in data_df['seq_out'].tolist()]\n",
    "    #get seq in\n",
    "    com_lst = [ele.split() for ele in data_df['seq_in'].tolist()]\n",
    "\n",
    "    # get intent out\n",
    "    int_lst = []\n",
    "    for sample_lab in lab_lst:\n",
    "        lst = []\n",
    "        for ele in sample_lab:\n",
    "            if '_' not in ele:\n",
    "                lst.append('O')\n",
    "            else:\n",
    "                start = ele.find('_') + 1\n",
    "                if ele.count('_') == 2:\n",
    "                    end = ele.rfind('_')\n",
    "                    lst.append(ele[start:end])\n",
    "#################### turns out we don't need to label the verb ###################\n",
    "                else:\n",
    "                    lst.append('O') # verb -> 'O'\n",
    "#                     lst.append(ele[start:])\n",
    "\n",
    "\n",
    "        int_lst.append(lst)\n",
    "\n",
    "    # get label\n",
    "    label = []\n",
    "    for lab_seq in int_lst:\n",
    "        lst = []\n",
    "        for lab in lab_seq:\n",
    "            if lab == 'O':\n",
    "                continue\n",
    "            elif len(lst) == 0:\n",
    "                lst.append(lab)\n",
    "            elif lab != lst[-1]:\n",
    "                lst.append(lab)\n",
    "        hash_taged = [ele+'#' if i != len(lst)-1 else ele for i,ele in enumerate(lst)]\n",
    "        label.append(hash_taged)\n",
    "\n",
    "\n",
    "    # get seq out\n",
    "    # 1. remove the intent label out of the seq out\n",
    "    lab_lst = [ele.split() for ele in data_df['seq_out'].tolist()]\n",
    "    lab_lst = [[ele if ele.count('_') == 2 else 'O' for ele in lst] for lst in lab_lst]\n",
    "    # 2. remove the intentions names in the slot names\n",
    "    slot_seq = []\n",
    "    for ite,one_seq in enumerate(lab_lst):\n",
    "        lst = []\n",
    "        for slot in one_seq:\n",
    "\n",
    "            if slot == 'O':\n",
    "                lst.append('O')\n",
    "            else:\n",
    "                # with IBO\n",
    "                slot_start = slot.find('_',2)+1\n",
    "                entity_type = slot[slot_start:]\n",
    "                lst.append(slot[0]+'-'+entity_type)\n",
    "\n",
    "                #without IBO\n",
    "                # slot_start = slot.find('_',2)+1\n",
    "                # lst.append(slot[slot_start:])\n",
    "\n",
    "        slot_seq.append(lst)\n",
    "\n",
    "    df = data_df.copy()\n",
    "    df['seq_out'] = slot_seq\n",
    "    df['seq_intent'] = int_lst\n",
    "    df['label'] = label\n",
    "\n",
    "\n",
    "    # write all files\n",
    "    write(f'./{env_name}/seq.in',com_lst)\n",
    "    write(f'./{env_name}/seq.out',slot_seq)\n",
    "    write(f'./{env_name}/seq_intent.out',int_lst)\n",
    "    write(f'./{env_name}/label',label, False)\n",
    "\n",
    "    return df\n",
    "\n",
    "\n",
    "\n",
    "df_train_all = gen_files('train',env_dict['train'], unique_intent)\n",
    "df_dev_all = gen_files('dev',env_dict['dev'], unique_intent)\n",
    "df_test_all = gen_files('test',env_dict['test'], unique_intent)\n",
    "\n",
    "env_dict_all = {'train' : df_train_all,\n",
    "               'dev' : df_dev_all,\n",
    "               'test' : df_test_all}\n",
    "\n",
    "for env,df in env_dict_all.items():\n",
    "    print(env,'\\n')\n",
    "    display(df)\n",
    "    print('------------------------------------------------------------------')"
   ]
  },
  {
   "cell_type": "code",
   "execution_count": 12,
   "metadata": {},
   "outputs": [
    {
     "name": "stdout",
     "output_type": "stream",
     "text": [
      "['O', 'O', 'O', 'B-obj', 'I-obj', 'I-obj', 'O', 'B-dest', 'I-dest', 'I-dest', 'I-dest', 'I-dest', 'O', 'O', 'B-dest', 'I-dest']\n",
      "['O', 'O', 'O', 'take', 'take', 'take', 'O', 'take', 'take', 'take', 'take', 'take', 'O', 'O', 'take', 'take']\n"
     ]
    }
   ],
   "source": [
    "print(env_dict_all['train']['seq_out'][0])\n",
    "print(env_dict_all['train']['seq_intent'][0])"
   ]
  },
  {
   "cell_type": "markdown",
   "metadata": {},
   "source": [
    "# Write unique slots files"
   ]
  },
  {
   "cell_type": "code",
   "execution_count": 13,
   "metadata": {},
   "outputs": [
    {
     "data": {
      "text/plain": "['PAD',\n 'O',\n 'B-obj',\n 'B-dest',\n 'B-per',\n 'B-sour',\n 'I-dest',\n 'I-sour',\n 'I-obj',\n 'I-per']"
     },
     "execution_count": 13,
     "metadata": {},
     "output_type": "execute_result"
    }
   ],
   "source": [
    "def write_unique_slot(env_dict_all):\n",
    "    label = []\n",
    "    for df in env_dict_all.values():\n",
    "        label.extend(df['seq_out'].tolist())\n",
    "        \n",
    "    label_lst = label.copy()\n",
    "    # unique_labels\n",
    "#     ites = [i for i,lst in enumerate(label_lst) if 'b-obj' in lst]\n",
    "#     print(ites[:10])\n",
    "#     print(df['seq_in'][ites[0]])\n",
    "#     print(label[ites[0]])\n",
    "    \n",
    "    slots = [ele  for lst in label_lst for ele in lst if ele != 'O'] #ele[2:] to remove the B_, I_\n",
    "    unique_slot = ['PAD','O'] + [*set(slots)]\n",
    "    \n",
    "    with open('slot_label.txt','w') as f:\n",
    "        for slot in unique_slot:\n",
    "            f.write(slot)\n",
    "            f.write('\\n')\n",
    "    return unique_slot\n",
    "\n",
    "unique_slot = write_unique_slot(env_dict_all)\n",
    "unique_slot"
   ]
  },
  {
   "cell_type": "markdown",
   "metadata": {},
   "source": [
    "# Check labels dist, and write unique labels (+ PAD, UNK, but UNK is not going to be used)"
   ]
  },
  {
   "cell_type": "code",
   "execution_count": 14,
   "metadata": {},
   "outputs": [
    {
     "name": "stdout",
     "output_type": "stream",
     "text": [
      "env:  train\n",
      "Unique intent:  ['go', 'guide', 'find', 'O', 'greet', 'follow', 'take'] 7\n",
      "Unique slots:   ['B-obj', 'B-dest', 'B-per', 'B-sour', 'I-dest', 'I-sour', 'O', 'I-obj', 'I-per'] 9 \n",
      "\n",
      "env:  dev\n",
      "Unique intent:  ['go', 'guide', 'find', 'O', 'greet', 'follow', 'take'] 7\n",
      "Unique slots:   ['B-obj', 'B-dest', 'B-per', 'B-sour', 'I-dest', 'I-sour', 'O', 'I-obj', 'I-per'] 9 \n",
      "\n",
      "env:  test\n",
      "Unique intent:  ['go', 'guide', 'find', 'O', 'greet', 'follow', 'take'] 7\n",
      "Unique slots:   ['B-obj', 'B-dest', 'B-per', 'B-sour', 'I-dest', 'I-sour', 'O', 'I-obj', 'I-per'] 9 \n",
      "\n"
     ]
    }
   ],
   "source": [
    "# def unique_labels(file_path):\n",
    "#     labels = [line.strip().split() for line in open(file_path, 'r', encoding='utf-8')]\n",
    "#     label_df = pd.Series( x for seq in labels for x in seq)\n",
    "#     lst = label_df.unique().tolist()\n",
    "#     return lst\n",
    "\n",
    "def show_unique_labels(env):\n",
    "    uni_slot = [line.strip() for line in open('slot_label.txt', 'r', encoding='utf-8')]\n",
    "    uni_intent = [line.strip() for line in open('intent_label.txt', 'r', encoding='utf-8')]\n",
    "    \n",
    "    slot_path =  f'./{env}/seq.out'\n",
    "    intent_path = f'./{env}/seq_intent.out'\n",
    "    \n",
    "    slot_seq = [line.strip().split() for line in open(slot_path, 'r', encoding='utf-8')]\n",
    "    intent_seq = [line.strip().split() for line in open(intent_path, 'r', encoding='utf-8')]\n",
    "    \n",
    "    slot_lst = [label for seq in slot_seq for label in seq]\n",
    "    intent_lst = [label for seq in intent_seq for label in seq] \n",
    "    \n",
    "    env_uni_slot = [*set(slot_lst)]\n",
    "    env_uni_intent = [*set(intent_lst)]\n",
    "    print('env: ',env)\n",
    "    print('Unique intent: ',env_uni_intent,len(env_uni_intent))\n",
    "    print('Unique slots:  ',env_uni_slot,len(env_uni_slot),'\\n')\n",
    "    return\n",
    "\n",
    "\n",
    "for env in env_dict_all.keys():\n",
    "    show_unique_labels(env)"
   ]
  }
 ],
 "metadata": {
  "kernelspec": {
   "display_name": "jointbert",
   "language": "python",
   "name": "jointbert"
  },
  "language_info": {
   "codemirror_mode": {
    "name": "ipython",
    "version": 3
   },
   "file_extension": ".py",
   "mimetype": "text/x-python",
   "name": "python",
   "nbconvert_exporter": "python",
   "pygments_lexer": "ipython3",
   "version": "3.9.15"
  }
 },
 "nbformat": 4,
 "nbformat_minor": 4
}
