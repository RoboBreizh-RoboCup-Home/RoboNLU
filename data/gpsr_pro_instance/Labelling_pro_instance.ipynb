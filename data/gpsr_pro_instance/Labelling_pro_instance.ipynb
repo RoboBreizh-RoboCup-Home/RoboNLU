{
 "cells": [
  {
   "cell_type": "code",
   "execution_count": 1,
   "outputs": [],
   "source": [
    "import pandas as pd"
   ],
   "metadata": {
    "collapsed": false
   }
  },
  {
   "cell_type": "code",
   "execution_count": 2,
   "outputs": [
    {
     "name": "stdout",
     "output_type": "stream",
     "text": [
      "Could you please find -B_find- Linda -B_find_per- , go -B_follow- after -I_follow- her -B_follow_per- , and tell -B_say- the time -I_say-\n",
      "len:  100000\n",
      "['Describe -B_say- the objects in the sink to me -I_say- please', 'Salute -B_greet- the youngest -i- person -B_greet_per- in the living -i- room -B_greet_dest-', 'Set -B_take- a cup -B_take_obj- on the cupboard -B_take_dest- and a knife -B_take_obj- on its -B_take_dest- left -I_take_dest- _179-its_ please', 'Could you please find -B_find- Linda -B_find_per- , go -B_follow- after -I_follow- her -B_follow_per- , and tell -B_say- the time -I_say-', 'Could you pinpoint -B_find- the basket -B_find_obj- in the bedroom -B_find_dest-', 'Serve -B_take- some grape -i- juice -B_take_obj- in a cup -B_take_dest-', 'Locate -B_find- William -B_find_per- , accompany -B_follow- it -B_follow_per- , and look -B_find- for -I_find- Alex -B_find_per- at the dining -i- table -B_find_dest- please', 'Look -B_find- for -I_find- the apple -B_find_obj- , pinpoint -B_find- a orange -B_find_obj- in the bedroom -B_find_dest- , and answer -B_say- a question -I_say- please', 'Pick -B_take- up -I_take- the orange -B_take_obj- from the dining -i- table -B_take_sour- , leave -B_take- it -B_take_obj- on the sink -B_take_dest- _226-it_ , speak -B_say- please', 'Could you please pour -B_take- some coke -B_take_obj- in a bowl -B_take_dest-']\n"
     ]
    }
   ],
   "source": [
    "def read_command(path):\n",
    "    with open(path) as f:\n",
    "        lines = f.readlines()\n",
    "\n",
    "    com = []\n",
    "    count = 0\n",
    "    for l in lines:\n",
    "        if count == 0 and '# Example' in l:\n",
    "            count += 1\n",
    "        elif count == 1 and l == '#\\n':\n",
    "            count += 1\n",
    "        elif count == 2 and '########################' in l:\n",
    "            count += 1\n",
    "        elif count ==3 and l == '\\n':\n",
    "            count += 1\n",
    "        elif count == 4:\n",
    "            com.append(l.strip())\n",
    "            count = 0\n",
    "\n",
    "    return com\n",
    "\n",
    "def seperate_comma(com_lst):\n",
    "    raw_lst = [[ele if ele[-1] != ',' else ele[:-1] + ' ' + ',' for ele in command.split()] for command in com_lst]\n",
    "    com_lst = [' '.join(ele) for ele in raw_lst]\n",
    "    return com_lst\n",
    "\n",
    "def read_all(num_files):\n",
    "    com_lst = []\n",
    "    for i in range(1,num_files+1):\n",
    "        path = './Examples/EGPSR Examples_' + str(i)+ '.txt'\n",
    "        # path = './Examples/EGPSR Examples.txt'\n",
    "        com_lst.extend(read_command(path))\n",
    "\n",
    "    com_lst = seperate_comma(com_lst)\n",
    "    return com_lst\n",
    "\n",
    "num_files = 10\n",
    "# num_files = 1\n",
    "\n",
    "com_lst = read_all(num_files)\n",
    "print(com_lst[3])\n",
    "\n",
    "print('len: ',len(com_lst))\n",
    "print(com_lst[:10])"
   ],
   "metadata": {
    "collapsed": false
   }
  },
  {
   "cell_type": "code",
   "execution_count": 3,
   "outputs": [
    {
     "data": {
      "text/plain": "        idx            referee   referral  \\\n0         3    ((4, 5), Linda)   (8, her)   \n1        14   ((3, 4), Robert)  (10, him)   \n2        16    ((1, 2), Linda)   (8, her)   \n3        22    ((1, 2), Linda)   (8, her)   \n4        23  ((2, 3), William)   (9, him)   \n...     ...                ...        ...   \n6423  49638  ((3, 4), Francis)   (9, her)   \n6424  49652   ((4, 5), Skyler)  (11, him)   \n6425  49669   ((6, 7), Robert)  (10, him)   \n6426  49693  ((6, 7), Francis)  (10, him)   \n6427  49695    ((4, 5), Linda)  (11, her)   \n\n                                                  words  \n0     Could you please find Linda , go after her , a...  \n1     Get acquainted with Robert at the entrance , t...  \n2               Meet Linda at the sink , then greet her  \n3     Meet Linda at the entrance , then greet her pl...  \n4     Please contact William at the bed , then greet...  \n...                                                 ...  \n6423  Could you locate Francis at the entrance , esc...  \n6424  Please get acquainted with Skyler at the bookc...  \n6425  Navigate to the kitchen , locate Robert , and ...  \n6426  Enter to the bedroom , pinpoint Francis , and ...  \n6427  Please get acquainted with Linda at the dishwa...  \n\n[6428 rows x 4 columns]",
      "text/html": "<div>\n<style scoped>\n    .dataframe tbody tr th:only-of-type {\n        vertical-align: middle;\n    }\n\n    .dataframe tbody tr th {\n        vertical-align: top;\n    }\n\n    .dataframe thead th {\n        text-align: right;\n    }\n</style>\n<table border=\"1\" class=\"dataframe\">\n  <thead>\n    <tr style=\"text-align: right;\">\n      <th></th>\n      <th>idx</th>\n      <th>referee</th>\n      <th>referral</th>\n      <th>words</th>\n    </tr>\n  </thead>\n  <tbody>\n    <tr>\n      <th>0</th>\n      <td>3</td>\n      <td>((4, 5), Linda)</td>\n      <td>(8, her)</td>\n      <td>Could you please find Linda , go after her , a...</td>\n    </tr>\n    <tr>\n      <th>1</th>\n      <td>14</td>\n      <td>((3, 4), Robert)</td>\n      <td>(10, him)</td>\n      <td>Get acquainted with Robert at the entrance , t...</td>\n    </tr>\n    <tr>\n      <th>2</th>\n      <td>16</td>\n      <td>((1, 2), Linda)</td>\n      <td>(8, her)</td>\n      <td>Meet Linda at the sink , then greet her</td>\n    </tr>\n    <tr>\n      <th>3</th>\n      <td>22</td>\n      <td>((1, 2), Linda)</td>\n      <td>(8, her)</td>\n      <td>Meet Linda at the entrance , then greet her pl...</td>\n    </tr>\n    <tr>\n      <th>4</th>\n      <td>23</td>\n      <td>((2, 3), William)</td>\n      <td>(9, him)</td>\n      <td>Please contact William at the bed , then greet...</td>\n    </tr>\n    <tr>\n      <th>...</th>\n      <td>...</td>\n      <td>...</td>\n      <td>...</td>\n      <td>...</td>\n    </tr>\n    <tr>\n      <th>6423</th>\n      <td>49638</td>\n      <td>((3, 4), Francis)</td>\n      <td>(9, her)</td>\n      <td>Could you locate Francis at the entrance , esc...</td>\n    </tr>\n    <tr>\n      <th>6424</th>\n      <td>49652</td>\n      <td>((4, 5), Skyler)</td>\n      <td>(11, him)</td>\n      <td>Please get acquainted with Skyler at the bookc...</td>\n    </tr>\n    <tr>\n      <th>6425</th>\n      <td>49669</td>\n      <td>((6, 7), Robert)</td>\n      <td>(10, him)</td>\n      <td>Navigate to the kitchen , locate Robert , and ...</td>\n    </tr>\n    <tr>\n      <th>6426</th>\n      <td>49693</td>\n      <td>((6, 7), Francis)</td>\n      <td>(10, him)</td>\n      <td>Enter to the bedroom , pinpoint Francis , and ...</td>\n    </tr>\n    <tr>\n      <th>6427</th>\n      <td>49695</td>\n      <td>((4, 5), Linda)</td>\n      <td>(11, her)</td>\n      <td>Please get acquainted with Linda at the dishwa...</td>\n    </tr>\n  </tbody>\n</table>\n<p>6428 rows × 4 columns</p>\n</div>"
     },
     "execution_count": 3,
     "metadata": {},
     "output_type": "execute_result"
    }
   ],
   "source": [
    "def find_sub_list(sub_list,this_list):\n",
    "    start = this_list.index(sub_list[0])\n",
    "    return (start,start+len(sub_list))\n",
    "\n",
    "def process_person_pro(com_lst,path):\n",
    "    lines = [line.strip() for line in open(path) if line.strip() != '' and line.strip() != 'it']\n",
    "    pairs_lst = [(lines[i].split(' '),lines[i+1]) for i in range(0,len(lines)//2,2)] #[([B-referee, I-referee],referral),([B-referee, I-referee],referral),....]\n",
    "    # print(pairs_lst)\n",
    "    person_pro_dict = {'idx':[],'referee':[],'referral':[],'words':[]}\n",
    "    for i,com in enumerate(com_lst):\n",
    "        lst = com.split()\n",
    "        cur_referee  = pairs_lst[0][0]\n",
    "        cur_referral = pairs_lst[0][1]\n",
    "\n",
    "        words_lst = [ele for ele in lst if ele[0] != '_' and ele[0] != '-']\n",
    "        str_referee = ' '.join(cur_referee).strip()\n",
    "        if str_referee in words_lst and cur_referral in words_lst:\n",
    "            # ------------ store command idx ------------\n",
    "            person_pro_dict['idx'].append(i)\n",
    "\n",
    "            # ------------ store original command  ------------\n",
    "            person_pro_dict['words'].append(' '.join(words_lst))\n",
    "\n",
    "            # ------------ store referral, the pronoun in word command ------------\n",
    "            referral_idx = words_lst.index(cur_referral)\n",
    "            person_pro_dict['referral'].append((referral_idx,cur_referral))\n",
    "\n",
    "            # ------------ store referee, the word being referred ------------\n",
    "            referee_idx = find_sub_list(cur_referee,words_lst)\n",
    "            #print(referee_idx)\n",
    "            person_pro_dict['referee'].append((referee_idx,str_referee))\n",
    "\n",
    "            pairs_lst.pop(0)\n",
    "            if len(pairs_lst) == 0:\n",
    "                break\n",
    "    return person_pro_dict\n",
    "\n",
    "# path = './Examples/pros_test.txt'\n",
    "path = './Examples/pros.txt'\n",
    "\n",
    "person_pro_dict = process_person_pro(com_lst,path)\n",
    "per_df = pd.DataFrame(person_pro_dict)\n",
    "per_df"
   ],
   "metadata": {
    "collapsed": false
   }
  },
  {
   "cell_type": "code",
   "execution_count": 4,
   "outputs": [
    {
     "data": {
      "text/plain": "         idx             referee   referral  \\\n0          2       ((2, 3), cup)  (10, its)   \n1          8    ((3, 4), orange)   (10, it)   \n2         20      ((3, 4), food)   (10, it)   \n3         32      ((2, 3), bowl)  (10, its)   \n4         36    ((8, 9), snacks)   (12, it)   \n...      ...                 ...        ...   \n10884  99980   ((9, 10), orange)   (16, it)   \n10885  99981  ((12, 13), orange)   (16, it)   \n10886  99982      ((2, 3), bowl)   (11, it)   \n10887  99986    ((3, 4), orange)    (9, it)   \n10888  99990     ((6, 7), apple)   (13, it)   \n\n                                                   words  \n0      Set a cup on the cupboard and a knife on its l...  \n1      Pick up the orange from the dining table , lea...  \n2      Pick up a food from the storage table and put ...  \n3      Place a bowl on the bookcase and a spoon on it...  \n4      Navigate to the dining room , locate the snack...  \n...                                                  ...  \n10884  Look for Mary in the bedroom , take the orange...  \n10885  Pick up the apple from the side table , pick u...  \n10886  Leave a bowl on the storage table and a knife ...  \n10887  Pick up the orange from the sink , hand it to ...  \n10888  Pinpoint the orange , get the apple from the b...  \n\n[10889 rows x 4 columns]",
      "text/html": "<div>\n<style scoped>\n    .dataframe tbody tr th:only-of-type {\n        vertical-align: middle;\n    }\n\n    .dataframe tbody tr th {\n        vertical-align: top;\n    }\n\n    .dataframe thead th {\n        text-align: right;\n    }\n</style>\n<table border=\"1\" class=\"dataframe\">\n  <thead>\n    <tr style=\"text-align: right;\">\n      <th></th>\n      <th>idx</th>\n      <th>referee</th>\n      <th>referral</th>\n      <th>words</th>\n    </tr>\n  </thead>\n  <tbody>\n    <tr>\n      <th>0</th>\n      <td>2</td>\n      <td>((2, 3), cup)</td>\n      <td>(10, its)</td>\n      <td>Set a cup on the cupboard and a knife on its l...</td>\n    </tr>\n    <tr>\n      <th>1</th>\n      <td>8</td>\n      <td>((3, 4), orange)</td>\n      <td>(10, it)</td>\n      <td>Pick up the orange from the dining table , lea...</td>\n    </tr>\n    <tr>\n      <th>2</th>\n      <td>20</td>\n      <td>((3, 4), food)</td>\n      <td>(10, it)</td>\n      <td>Pick up a food from the storage table and put ...</td>\n    </tr>\n    <tr>\n      <th>3</th>\n      <td>32</td>\n      <td>((2, 3), bowl)</td>\n      <td>(10, its)</td>\n      <td>Place a bowl on the bookcase and a spoon on it...</td>\n    </tr>\n    <tr>\n      <th>4</th>\n      <td>36</td>\n      <td>((8, 9), snacks)</td>\n      <td>(12, it)</td>\n      <td>Navigate to the dining room , locate the snack...</td>\n    </tr>\n    <tr>\n      <th>...</th>\n      <td>...</td>\n      <td>...</td>\n      <td>...</td>\n      <td>...</td>\n    </tr>\n    <tr>\n      <th>10884</th>\n      <td>99980</td>\n      <td>((9, 10), orange)</td>\n      <td>(16, it)</td>\n      <td>Look for Mary in the bedroom , take the orange...</td>\n    </tr>\n    <tr>\n      <th>10885</th>\n      <td>99981</td>\n      <td>((12, 13), orange)</td>\n      <td>(16, it)</td>\n      <td>Pick up the apple from the side table , pick u...</td>\n    </tr>\n    <tr>\n      <th>10886</th>\n      <td>99982</td>\n      <td>((2, 3), bowl)</td>\n      <td>(11, it)</td>\n      <td>Leave a bowl on the storage table and a knife ...</td>\n    </tr>\n    <tr>\n      <th>10887</th>\n      <td>99986</td>\n      <td>((3, 4), orange)</td>\n      <td>(9, it)</td>\n      <td>Pick up the orange from the sink , hand it to ...</td>\n    </tr>\n    <tr>\n      <th>10888</th>\n      <td>99990</td>\n      <td>((6, 7), apple)</td>\n      <td>(13, it)</td>\n      <td>Pinpoint the orange , get the apple from the b...</td>\n    </tr>\n  </tbody>\n</table>\n<p>10889 rows × 4 columns</p>\n</div>"
     },
     "execution_count": 4,
     "metadata": {},
     "output_type": "execute_result"
    }
   ],
   "source": [
    "#{'_178-it_', '_285-it_', '_226-it_', '_226-it_,', '_95-it_', '_286-it_', '_227-it_', '_179-its_'}\n",
    "def get_it_s_lab(com_lst):\n",
    "    pro_tag_set = set()\n",
    "    for com in com_lst:\n",
    "        lst = com.split()\n",
    "        for ele in lst:\n",
    "            if ele[0] == '_':\n",
    "                pro_tag_set.add(ele)\n",
    "    return pro_tag_set\n",
    "\n",
    "\n",
    "\n",
    "#\"referral\" : The referring wildcard.\n",
    "#\"referee\" : The wildcard being referred.\n",
    "def store_it_s_coref(com_lst):\n",
    "    clean_com_lst = com_lst.copy()\n",
    "    pro_dict = {'idx':[],'referee':[],'referral':[],'words':[]}\n",
    "    pro_tag_set = get_it_s_lab(com_lst)\n",
    "    for i,com in enumerate(com_lst):\n",
    "\n",
    "        # if i == 50:\n",
    "        #     break\n",
    "\n",
    "        lst = com.split()\n",
    "\n",
    "        the_tag = None\n",
    "        for tag in list(pro_tag_set):\n",
    "            if tag in lst:\n",
    "                the_tag = [ele for ele in lst if ele[0] == '_'][0]\n",
    "                break\n",
    "\n",
    "        if the_tag != None: # has pronoun in this command\n",
    "            clean_com_lst[i] = ' '.join([ele for ele in lst if ele[0] != '_'])\n",
    "            # ------------ store command idx ------------\n",
    "            pro_dict['idx'].append(i)\n",
    "\n",
    "            words_lst = [ele for ele in lst if ele[0] != '_' and ele[0] != '-']\n",
    "            pro_dict['words'].append(' '.join(words_lst))\n",
    "            # ------------ store referral, the pronoun in word command ------------\n",
    "            if 'its' in the_tag:\n",
    "                pro_loc = words_lst.index('its')\n",
    "                pro_dict['referral'].append((pro_loc,'its'))\n",
    "            elif 'it' in the_tag:\n",
    "                pro_loc = words_lst.index('it')\n",
    "                pro_dict['referral'].append((pro_loc,'it'))\n",
    "\n",
    "            # ------------ store referee, the word being referred ------------\n",
    "            raw_loc = lst.index(the_tag)\n",
    "            search_lst = lst[:raw_loc][::-1]\n",
    "            obj_tag_count = 0\n",
    "            i_count = 0\n",
    "            rev_referee = []\n",
    "            # print(search_lst)\n",
    "            for j,ele in enumerate(search_lst):\n",
    "                if obj_tag_count == 2:\n",
    "                    rev_referee.append(ele)\n",
    "                    if search_lst[j] == '-i-':\n",
    "                        rev_referee.pop()\n",
    "                        i_count += 1\n",
    "                        continue\n",
    "\n",
    "                    elif i_count ==len(rev_referee): # unfinished storing referee\n",
    "                        continue\n",
    "\n",
    "                    else:\n",
    "                        break\n",
    "\n",
    "                if '_obj-' in ele:\n",
    "                    obj_tag_count += 1\n",
    "\n",
    "            referee_lst = rev_referee[::-1]\n",
    "            referee_loc = find_sub_list(referee_lst,words_lst)\n",
    "            str_referee = ' '.join(referee_lst).strip()\n",
    "            pro_dict['referee'].append((referee_loc,str_referee))\n",
    "\n",
    "    return pro_dict,clean_com_lst\n",
    "\n",
    "# get_it_s_lab(com_lst)\n",
    "pro_dict,clean_com_lst = store_it_s_coref(com_lst)\n",
    "it_df =pd.DataFrame(pro_dict)\n",
    "it_df"
   ],
   "metadata": {
    "collapsed": false
   }
  },
  {
   "cell_type": "code",
   "execution_count": 5,
   "outputs": [
    {
     "name": "stderr",
     "output_type": "stream",
     "text": [
      "/tmp/ipykernel_11124/3520584853.py:14: FutureWarning: The frame.append method is deprecated and will be removed from pandas in a future version. Use pandas.concat instead.\n",
      "  df = it_df.copy().append(per_df)\n",
      "/tmp/ipykernel_11124/3520584853.py:15: FutureWarning: The frame.append method is deprecated and will be removed from pandas in a future version. Use pandas.concat instead.\n",
      "  df = df.append(rest_df)\n"
     ]
    },
    {
     "data": {
      "text/plain": "         idx          referee   referral  \\\n0          0                               \n1          1                               \n0          2    ((2, 3), cup)  (10, its)   \n0          3  ((4, 5), Linda)   (8, her)   \n2          4                               \n...      ...              ...        ...   \n82678  99995                               \n82679  99996                               \n82680  99997                               \n82681  99998                               \n82682  99999                               \n\n                                                   words  \n0          Describe the objects in the sink to me please  \n1          Salute the youngest person in the living room  \n0      Set a cup on the cupboard and a knife on its l...  \n0      Could you please find Linda , go after her , a...  \n2           Could you pinpoint the basket in the bedroom  \n...                                                  ...  \n82678  Robot please grasp the paprika from the end ta...  \n82679  Tell me how many elders are wearing jackets in...  \n82680       Describe the objects in the side table to me  \n82681  Tell me how many elders are raising their righ...  \n82682  Tell me how many elders are wearing yellow in ...  \n\n[100000 rows x 4 columns]",
      "text/html": "<div>\n<style scoped>\n    .dataframe tbody tr th:only-of-type {\n        vertical-align: middle;\n    }\n\n    .dataframe tbody tr th {\n        vertical-align: top;\n    }\n\n    .dataframe thead th {\n        text-align: right;\n    }\n</style>\n<table border=\"1\" class=\"dataframe\">\n  <thead>\n    <tr style=\"text-align: right;\">\n      <th></th>\n      <th>idx</th>\n      <th>referee</th>\n      <th>referral</th>\n      <th>words</th>\n    </tr>\n  </thead>\n  <tbody>\n    <tr>\n      <th>0</th>\n      <td>0</td>\n      <td></td>\n      <td></td>\n      <td>Describe the objects in the sink to me please</td>\n    </tr>\n    <tr>\n      <th>1</th>\n      <td>1</td>\n      <td></td>\n      <td></td>\n      <td>Salute the youngest person in the living room</td>\n    </tr>\n    <tr>\n      <th>0</th>\n      <td>2</td>\n      <td>((2, 3), cup)</td>\n      <td>(10, its)</td>\n      <td>Set a cup on the cupboard and a knife on its l...</td>\n    </tr>\n    <tr>\n      <th>0</th>\n      <td>3</td>\n      <td>((4, 5), Linda)</td>\n      <td>(8, her)</td>\n      <td>Could you please find Linda , go after her , a...</td>\n    </tr>\n    <tr>\n      <th>2</th>\n      <td>4</td>\n      <td></td>\n      <td></td>\n      <td>Could you pinpoint the basket in the bedroom</td>\n    </tr>\n    <tr>\n      <th>...</th>\n      <td>...</td>\n      <td>...</td>\n      <td>...</td>\n      <td>...</td>\n    </tr>\n    <tr>\n      <th>82678</th>\n      <td>99995</td>\n      <td></td>\n      <td></td>\n      <td>Robot please grasp the paprika from the end ta...</td>\n    </tr>\n    <tr>\n      <th>82679</th>\n      <td>99996</td>\n      <td></td>\n      <td></td>\n      <td>Tell me how many elders are wearing jackets in...</td>\n    </tr>\n    <tr>\n      <th>82680</th>\n      <td>99997</td>\n      <td></td>\n      <td></td>\n      <td>Describe the objects in the side table to me</td>\n    </tr>\n    <tr>\n      <th>82681</th>\n      <td>99998</td>\n      <td></td>\n      <td></td>\n      <td>Tell me how many elders are raising their righ...</td>\n    </tr>\n    <tr>\n      <th>82682</th>\n      <td>99999</td>\n      <td></td>\n      <td></td>\n      <td>Tell me how many elders are wearing yellow in ...</td>\n    </tr>\n  </tbody>\n</table>\n<p>100000 rows × 4 columns</p>\n</div>"
     },
     "execution_count": 5,
     "metadata": {},
     "output_type": "execute_result"
    }
   ],
   "source": [
    "def merge_df(com_lst,it_df,per_df):\n",
    "    it_idx = it_df['idx'].tolist()\n",
    "    per_idx = per_df['idx'].tolist()\n",
    "    dic = {'idx':[],'referee':[],'referral':[],'words':[]}\n",
    "    for i,com in enumerate(com_lst):\n",
    "        if i not in it_idx and i not in per_idx:\n",
    "            dic['idx'].append(i)\n",
    "            dic['referee'].append('')\n",
    "            dic['referral'].append('')\n",
    "            words_lst = [ele for ele in com.split() if ele[0] != '_' and ele[0] != '-']\n",
    "            dic['words'].append(' '.join(words_lst))\n",
    "\n",
    "    rest_df = pd.DataFrame(dic)\n",
    "    df = it_df.copy().append(per_df)\n",
    "    df = df.append(rest_df)\n",
    "    df = df.sort_values('idx')\n",
    "    return df\n",
    "\n",
    "pro_df = merge_df(clean_com_lst,it_df,per_df)\n",
    "pro_df"
   ],
   "metadata": {
    "collapsed": false
   }
  },
  {
   "cell_type": "code",
   "execution_count": 6,
   "outputs": [
    {
     "name": "stdout",
     "output_type": "stream",
     "text": [
      "[['O', 'O', 'O', 'O', 'O', 'O', 'O', 'O', 'O'], ['O', 'O', 'O', 'O', 'O', 'O', 'O', 'O'], ['O', 'O', 'B-referee', 'O', 'O', 'O', 'O', 'O', 'O', 'O', 'referral', 'O', 'O'], ['O', 'O', 'O', 'O', 'B-referee', 'O', 'O', 'O', 'referral', 'O', 'O', 'O', 'O', 'O'], ['O', 'O', 'O', 'O', 'O', 'O', 'O', 'O'], ['O', 'O', 'O', 'O', 'O', 'O', 'O'], ['O', 'O', 'O', 'O', 'O', 'O', 'O', 'O', 'O', 'O', 'O', 'O', 'O', 'O', 'O'], ['O', 'O', 'O', 'O', 'O', 'O', 'O', 'O', 'O', 'O', 'O', 'O', 'O', 'O', 'O', 'O', 'O'], ['O', 'O', 'O', 'B-referee', 'O', 'O', 'O', 'O', 'O', 'O', 'referral', 'O', 'O', 'O', 'O', 'O', 'O'], ['O', 'O', 'O', 'O', 'O', 'O', 'O', 'O', 'O']]\n"
     ]
    }
   ],
   "source": [
    "def gen_pro_labels(pro_df):\n",
    "    referee_lst = pro_df['referee'].tolist()\n",
    "    referral_lst = pro_df['referral'].tolist()\n",
    "    words_lst = [ele.split() for ele in pro_df['words'].tolist()]\n",
    "    pro_labels = [['O']*len(lst) for lst in words_lst]\n",
    "    for sample_idx in range(len(words_lst)):\n",
    "        if referral_lst[sample_idx] != '':\n",
    "            referral_idx = referral_lst[sample_idx][0]\n",
    "            pro_labels[sample_idx][referral_idx] = 'referral'\n",
    "\n",
    "            referee_start = referee_lst[sample_idx][0][0]\n",
    "            referee_end = referee_lst[sample_idx][0][1]\n",
    "            pro_labels[sample_idx][referee_start] = 'B-referee'\n",
    "            length = referee_end - referee_start\n",
    "            if length > 1:\n",
    "                pro_labels[sample_idx][referee_start + 1 : referee_end] = ['I-referee']*(length - 1)\n",
    "\n",
    "    return pro_labels\n",
    "pro_labels = gen_pro_labels(pro_df)\n",
    "print(pro_labels[:10])"
   ],
   "metadata": {
    "collapsed": false
   }
  },
  {
   "cell_type": "code",
   "execution_count": 7,
   "outputs": [
    {
     "data": {
      "text/plain": "'Could you please find -B_find- Linda -B_find_per- , go -B_follow- after -I_follow- her -B_follow_per- , and tell -B_say- the -I_say- time -I_say-'"
     },
     "execution_count": 7,
     "metadata": {},
     "output_type": "execute_result"
    }
   ],
   "source": [
    "import itertools\n",
    "\n",
    "def improve_labels(com_lst):\n",
    "    res = []\n",
    "    for i,com in enumerate(com_lst):\n",
    "\n",
    "        #-b_obj  -->  -B_obj: to fix a labelling error in the command generator\n",
    "        com = [ele if 'b_' not in ele else ele.replace('b_','B_') for ele in com.split()]\n",
    "        com = ['-'+ele if ele == 'B_guide_dest-' else ele for ele in com]\n",
    "\n",
    "\n",
    "        if '-B_say-' not in com and '-i-' not in com:\n",
    "            res.append(com)\n",
    "            continue\n",
    "        elif '-B_say-' in com:\n",
    "            if '-I_say-' not in com:\n",
    "                labelled = com\n",
    "            else:\n",
    "                b_idx = com.index('-B_say-') + 1\n",
    "                e_idx = com.index('-I_say-') -1\n",
    "                first = com[:b_idx]\n",
    "                end = com[e_idx:]\n",
    "\n",
    "                need_label = com[b_idx:e_idx]\n",
    "\n",
    "                #rem all -i- in the 'say' cases\n",
    "                need_label = [ele for ele in need_label if ele != '-i-']\n",
    "\n",
    "                interleave = list(itertools.chain(*zip(need_label, ['-I_say-']*len(need_label))))\n",
    "                labelled = first + interleave + end\n",
    "\n",
    "                com = labelled.copy()\n",
    "\n",
    "        #deal with -i-\n",
    "        elif '-i-' in com:\n",
    "            string = ' '.join(com)\n",
    "            while '-i- -i-' in string:\n",
    "                string = string.replace('-i- -i-', '-i-')\n",
    "\n",
    "            while '-i- -' in string:\n",
    "                string = string.replace('-i- -','-')\n",
    "\n",
    "            com = string.split()\n",
    "\n",
    "\n",
    "            idx_lst = []\n",
    "            for idx,ele in enumerate(com):\n",
    "                if ele == '-i-':\n",
    "                    if len(idx_lst) == 0:\n",
    "                        idx_lst.append([idx])\n",
    "                    elif idx == idx_lst[-1][-1] + 2:\n",
    "                        idx_lst[-1].append(idx)\n",
    "                    else:\n",
    "                        idx_lst.append([idx])\n",
    "            # if i == 0:\n",
    "            #     print(com)\n",
    "            #     print(idx_lst)\n",
    "\n",
    "            for lst in idx_lst:\n",
    "                end_label = com[lst[-1]+2]\n",
    "                #com[lst[0]] = end_label.replace(',','')\n",
    "                if 'B' in end_label:\n",
    "                    com[lst[-1]+2] = com[lst[-1]+2].replace('B','I')#.replace(',','')\n",
    "\n",
    "\n",
    "                for j,idx in enumerate(lst):\n",
    "                    if j == 0:\n",
    "                        continue\n",
    "                    else:\n",
    "                        label = com[lst[-1]+2]\n",
    "\n",
    "                        #remove the comma for the earlier tokens (with i) if has comma\n",
    "                        # if ',' in label:\n",
    "                        #     label = label.replace(',','')\n",
    "\n",
    "                        com[idx] = label\n",
    "\n",
    "            labelled = com.copy()\n",
    "\n",
    "        res.append(labelled)\n",
    "    return res\n",
    "\n",
    "res = improve_labels(clean_com_lst)\n",
    "' '.join(res[3])\n"
   ],
   "metadata": {
    "collapsed": false
   }
  },
  {
   "cell_type": "code",
   "execution_count": 8,
   "outputs": [
    {
     "name": "stdout",
     "output_type": "stream",
     "text": [
      "['Set', 'a', 'cup', 'on', 'the', 'cupboard', 'and', 'a', 'knife', 'on', 'its', 'left', 'please']\n"
     ]
    },
    {
     "data": {
      "text/plain": "['B_take',\n 'O',\n 'B_take_obj',\n 'O',\n 'O',\n 'B_take_dest',\n 'O',\n 'O',\n 'B_take_obj',\n 'O',\n 'B_take_dest',\n 'I_take_dest',\n 'O']"
     },
     "execution_count": 8,
     "metadata": {},
     "output_type": "execute_result"
    }
   ],
   "source": [
    "def generate_seq_out(res):\n",
    "    seq_in = []\n",
    "    seq_out = []\n",
    "    for i,com in enumerate(res):\n",
    "        in_lst = []\n",
    "        clean_out_lst = []\n",
    "        for ele in com:\n",
    "#             print('ele; ',ele)\n",
    "            if ele[0] != '-':\n",
    "                in_lst.append(ele)\n",
    "                clean_out_lst.append('O')\n",
    "            else:\n",
    "                clean_out_lst[-1] = ele.replace('-','',2)\n",
    "                if ',' in ele:\n",
    "                    clean_out_lst[-1] = clean_out_lst[-1].replace(',','')\n",
    "\n",
    "        seq_in.append(in_lst)\n",
    "        seq_out.append(clean_out_lst)\n",
    "\n",
    "    return seq_in, seq_out\n",
    "\n",
    "seq_in, seq_out = generate_seq_out(res)\n",
    "print(seq_in[2])\n",
    "seq_out[2]"
   ],
   "metadata": {
    "collapsed": false
   }
  },
  {
   "cell_type": "code",
   "execution_count": 9,
   "outputs": [
    {
     "data": {
      "text/plain": "                                                 command  \\\n0          Salute the youngest person in the living room   \n1      Set a cup on the cupboard and a knife on its l...   \n2           Could you pinpoint the basket in the bedroom   \n3                        Serve some grape juice in a cup   \n4      Locate William , accompany it , and look for A...   \n...                                                  ...   \n65826  Robot please go to the dishwasher , find Micha...   \n65830  Find James , look for Linda in the bedroom , a...   \n65831  Pinpoint the orange , get the apple from the b...   \n65832  Pinpoint Robin , retrieve the paprika from the...   \n65834  Navigate to the bed , spot Robin , and guide h...   \n\n                                                   label  \\\n0             B_greet O i I_greet_per O O i I_greet_dest   \n1      B_take O B_take_obj O O B_take_dest O O B_take...   \n2                O O B_find O B_find_obj O O B_find_dest   \n3                  B_take O i I_take_obj O O B_take_dest   \n4      B_find B_find_per O B_follow B_follow_per O O ...   \n...                                                  ...   \n65826  O O B_go O O B_go_dest O B_find B_find_per O O...   \n65830  B_find B_find_per O B_find I_find B_find_per O...   \n65831  B_find O B_find_obj O B_take O B_take_obj O O ...   \n65832  B_find B_find_per O B_take O B_take_obj O O B_...   \n65834  B_go O O B_go_dest O B_find B_find_per O O B_g...   \n\n                                                pronouns  \n0                               [O, O, O, O, O, O, O, O]  \n1      [O, O, B-referee, O, O, O, O, O, O, O, referra...  \n2                               [O, O, O, O, O, O, O, O]  \n3                                  [O, O, O, O, O, O, O]  \n4          [O, O, O, O, O, O, O, O, O, O, O, O, O, O, O]  \n...                                                  ...  \n65826            [O, O, O, O, O, O, O, O, O, O, O, O, O]  \n65830         [O, O, O, O, O, O, O, O, O, O, O, O, O, O]  \n65831  [O, O, O, O, O, O, B-referee, O, O, O, O, O, O...  \n65832  [O, O, O, O, O, O, O, O, O, O, O, O, O, O, O, ...  \n65834      [O, O, O, O, O, O, O, O, O, O, O, O, O, O, O]  \n\n[43849 rows x 3 columns]",
      "text/html": "<div>\n<style scoped>\n    .dataframe tbody tr th:only-of-type {\n        vertical-align: middle;\n    }\n\n    .dataframe tbody tr th {\n        vertical-align: top;\n    }\n\n    .dataframe thead th {\n        text-align: right;\n    }\n</style>\n<table border=\"1\" class=\"dataframe\">\n  <thead>\n    <tr style=\"text-align: right;\">\n      <th></th>\n      <th>command</th>\n      <th>label</th>\n      <th>pronouns</th>\n    </tr>\n  </thead>\n  <tbody>\n    <tr>\n      <th>0</th>\n      <td>Salute the youngest person in the living room</td>\n      <td>B_greet O i I_greet_per O O i I_greet_dest</td>\n      <td>[O, O, O, O, O, O, O, O]</td>\n    </tr>\n    <tr>\n      <th>1</th>\n      <td>Set a cup on the cupboard and a knife on its l...</td>\n      <td>B_take O B_take_obj O O B_take_dest O O B_take...</td>\n      <td>[O, O, B-referee, O, O, O, O, O, O, O, referra...</td>\n    </tr>\n    <tr>\n      <th>2</th>\n      <td>Could you pinpoint the basket in the bedroom</td>\n      <td>O O B_find O B_find_obj O O B_find_dest</td>\n      <td>[O, O, O, O, O, O, O, O]</td>\n    </tr>\n    <tr>\n      <th>3</th>\n      <td>Serve some grape juice in a cup</td>\n      <td>B_take O i I_take_obj O O B_take_dest</td>\n      <td>[O, O, O, O, O, O, O]</td>\n    </tr>\n    <tr>\n      <th>4</th>\n      <td>Locate William , accompany it , and look for A...</td>\n      <td>B_find B_find_per O B_follow B_follow_per O O ...</td>\n      <td>[O, O, O, O, O, O, O, O, O, O, O, O, O, O, O]</td>\n    </tr>\n    <tr>\n      <th>...</th>\n      <td>...</td>\n      <td>...</td>\n      <td>...</td>\n    </tr>\n    <tr>\n      <th>65826</th>\n      <td>Robot please go to the dishwasher , find Micha...</td>\n      <td>O O B_go O O B_go_dest O B_find B_find_per O O...</td>\n      <td>[O, O, O, O, O, O, O, O, O, O, O, O, O]</td>\n    </tr>\n    <tr>\n      <th>65830</th>\n      <td>Find James , look for Linda in the bedroom , a...</td>\n      <td>B_find B_find_per O B_find I_find B_find_per O...</td>\n      <td>[O, O, O, O, O, O, O, O, O, O, O, O, O, O]</td>\n    </tr>\n    <tr>\n      <th>65831</th>\n      <td>Pinpoint the orange , get the apple from the b...</td>\n      <td>B_find O B_find_obj O B_take O B_take_obj O O ...</td>\n      <td>[O, O, O, O, O, O, B-referee, O, O, O, O, O, O...</td>\n    </tr>\n    <tr>\n      <th>65832</th>\n      <td>Pinpoint Robin , retrieve the paprika from the...</td>\n      <td>B_find B_find_per O B_take O B_take_obj O O B_...</td>\n      <td>[O, O, O, O, O, O, O, O, O, O, O, O, O, O, O, ...</td>\n    </tr>\n    <tr>\n      <th>65834</th>\n      <td>Navigate to the bed , spot Robin , and guide h...</td>\n      <td>B_go O O B_go_dest O B_find B_find_per O O B_g...</td>\n      <td>[O, O, O, O, O, O, O, O, O, O, O, O, O, O, O]</td>\n    </tr>\n  </tbody>\n</table>\n<p>43849 rows × 3 columns</p>\n</div>"
     },
     "execution_count": 9,
     "metadata": {},
     "output_type": "execute_result"
    }
   ],
   "source": [
    "# need to process the pro df as well\n",
    "def rem_say(seq_in,seq_out,pro_labels,remove = True):\n",
    "    if remove:\n",
    "        say_idx = [i for i,labels in enumerate(seq_out) if 'B_say' in labels]\n",
    "        seq_in = [seq for i,seq in enumerate(seq_in) if i not in  say_idx]\n",
    "        seq_out = [seq for i,seq in enumerate(seq_out) if i not in  say_idx]\n",
    "        seq_pro = [seq for i,seq in enumerate(pro_labels) if i not in  say_idx]\n",
    "    return seq_in, seq_out, seq_pro\n",
    "\n",
    "def rem_dups(com_lst, lab_lst, pro_labels,rem = True):\n",
    "    com_lst = [' '.join(lst) for lst in com_lst]\n",
    "    lab_lst = [' '.join(lst) for lst in lab_lst]\n",
    "\n",
    "\n",
    "    com_lst, lab_lst, seq_pro = rem_say(com_lst,lab_lst,pro_labels, remove = rem)\n",
    "\n",
    "    df = pd.DataFrame (com_lst, columns = ['command'])\n",
    "    df['label'] = lab_lst\n",
    "    df['pronouns'] = seq_pro\n",
    "    df2 = df.drop_duplicates(subset=[\"command\"], keep='first')\n",
    "    return df2\n",
    "\n",
    "df = rem_dups(seq_in,seq_out,pro_labels)\n",
    "df"
   ],
   "metadata": {
    "collapsed": false
   }
  },
  {
   "cell_type": "code",
   "execution_count": 10,
   "outputs": [
    {
     "data": {
      "text/plain": "['PAD',\n 'O',\n 'B-greet',\n 'I-greet',\n 'B-guide',\n 'I-guide',\n 'B-follow',\n 'I-follow',\n 'B-find',\n 'I-find',\n 'B-take',\n 'I-take',\n 'B-go',\n 'I-go',\n 'B-know',\n 'I-know']"
     },
     "execution_count": 10,
     "metadata": {},
     "output_type": "execute_result"
    }
   ],
   "source": [
    "def write_unique_intent(df):\n",
    "    label = df['label'].tolist()\n",
    "    label_lst = [l.split() for l in label]\n",
    "    # unique_labels\n",
    "    intents = [ele[2:]  for lst in label_lst for ele in lst  if ele.count('_')==1] #ele[2:] to remove the B_, I_\n",
    "    #intents.extend(['PAD', 'O'])\n",
    "    unique_intent_verb = [*set(intents)]\n",
    "    unique_intent_B = ['B-' + intent for intent in unique_intent_verb]\n",
    "    unique_intent_I = ['I-' + intent for intent in unique_intent_verb]\n",
    "\n",
    "    # Interleave\n",
    "    unique_intent = unique_intent_B + unique_intent_I\n",
    "    unique_intent[::2] = unique_intent_B\n",
    "    unique_intent[1::2] = unique_intent_I\n",
    "\n",
    "    unique_intent = ['PAD','O'] + unique_intent\n",
    "\n",
    "    with open('intent_label.txt','w') as f:\n",
    "        for intent in unique_intent:\n",
    "            f.write(intent)\n",
    "            f.write('\\n')\n",
    "    return unique_intent\n",
    "\n",
    "unique_intent = write_unique_intent(df)\n",
    "unique_intent"
   ],
   "metadata": {
    "collapsed": false
   }
  },
  {
   "cell_type": "markdown",
   "source": [
    "# Train Dev Test split"
   ],
   "metadata": {
    "collapsed": false
   }
  },
  {
   "cell_type": "code",
   "execution_count": 11,
   "outputs": [
    {
     "name": "stdout",
     "output_type": "stream",
     "text": [
      "train \n",
      "\n"
     ]
    },
    {
     "data": {
      "text/plain": "                                                  seq_in  \\\n465    Please offer something to eat to all the child...   \n44727  Place the fork in the kitchen , grasp the appl...   \n8371   Could you please pinpoint Francis , grasp the ...   \n47003  Follow the person wearing a gray jacket in the...   \n62991         Place a dish on the sink and a spoon on it   \n...                                                  ...   \n7058   Please go to the living room , find the fruits...   \n13586  Navigate to the bedroom , look for the orange ...   \n55744  Find John , get the apple from the cupboard , ...   \n875    Spot James , grasp the paprika from the desk ,...   \n19890  Offer something to eat to all the standing men...   \n\n                                                 seq_out  \\\n465    O B_take B_take_obj I_take_obj I_take_obj O B_...   \n44727  B_take O B_take_obj O O B_take_dest O B_take O...   \n8371   O O O B_find B_find_per O B_take O B_take_obj ...   \n47003  B_follow O i I_follow_per I_follow_per I_follo...   \n62991  B_take O B_take_obj O O B_take_dest O O B_take...   \n...                                                  ...   \n7058   O B_go O O i I_go_dest O B_find O B_find_obj O...   \n13586  B_go O O B_go_dest O B_find I_find O B_find_ob...   \n55744  B_find B_find_per O B_take O B_take_obj O O B_...   \n875    B_find B_find_per O B_take O B_take_obj O O B_...   \n19890  B_take B_take_obj I_take_obj I_take_obj O B_ta...   \n\n                                                 seq_pro  \n465     [O, O, O, O, O, O, O, O, O, O, O, O, O, O, O, O]  \n44727  [O, O, O, O, O, O, O, O, O, B-referee, O, O, O...  \n8371   [O, O, O, O, O, O, O, O, B-referee, O, O, O, O...  \n47003                     [O, O, O, O, O, O, O, O, O, O]  \n62991   [O, O, B-referee, O, O, O, O, O, O, O, referral]  \n...                                                  ...  \n7058   [O, O, O, O, O, O, O, O, O, O, O, O, O, O, O, ...  \n13586  [O, O, O, O, O, O, O, O, B-referee, O, O, O, r...  \n55744  [O, O, O, O, O, B-referee, O, O, O, O, O, O, r...  \n875    [O, O, O, O, O, B-referee, O, O, O, O, O, O, r...  \n19890               [O, O, O, O, O, O, O, O, O, O, O, O]  \n\n[32886 rows x 3 columns]",
      "text/html": "<div>\n<style scoped>\n    .dataframe tbody tr th:only-of-type {\n        vertical-align: middle;\n    }\n\n    .dataframe tbody tr th {\n        vertical-align: top;\n    }\n\n    .dataframe thead th {\n        text-align: right;\n    }\n</style>\n<table border=\"1\" class=\"dataframe\">\n  <thead>\n    <tr style=\"text-align: right;\">\n      <th></th>\n      <th>seq_in</th>\n      <th>seq_out</th>\n      <th>seq_pro</th>\n    </tr>\n  </thead>\n  <tbody>\n    <tr>\n      <th>465</th>\n      <td>Please offer something to eat to all the child...</td>\n      <td>O B_take B_take_obj I_take_obj I_take_obj O B_...</td>\n      <td>[O, O, O, O, O, O, O, O, O, O, O, O, O, O, O, O]</td>\n    </tr>\n    <tr>\n      <th>44727</th>\n      <td>Place the fork in the kitchen , grasp the appl...</td>\n      <td>B_take O B_take_obj O O B_take_dest O B_take O...</td>\n      <td>[O, O, O, O, O, O, O, O, O, B-referee, O, O, O...</td>\n    </tr>\n    <tr>\n      <th>8371</th>\n      <td>Could you please pinpoint Francis , grasp the ...</td>\n      <td>O O O B_find B_find_per O B_take O B_take_obj ...</td>\n      <td>[O, O, O, O, O, O, O, O, B-referee, O, O, O, O...</td>\n    </tr>\n    <tr>\n      <th>47003</th>\n      <td>Follow the person wearing a gray jacket in the...</td>\n      <td>B_follow O i I_follow_per I_follow_per I_follo...</td>\n      <td>[O, O, O, O, O, O, O, O, O, O]</td>\n    </tr>\n    <tr>\n      <th>62991</th>\n      <td>Place a dish on the sink and a spoon on it</td>\n      <td>B_take O B_take_obj O O B_take_dest O O B_take...</td>\n      <td>[O, O, B-referee, O, O, O, O, O, O, O, referral]</td>\n    </tr>\n    <tr>\n      <th>...</th>\n      <td>...</td>\n      <td>...</td>\n      <td>...</td>\n    </tr>\n    <tr>\n      <th>7058</th>\n      <td>Please go to the living room , find the fruits...</td>\n      <td>O B_go O O i I_go_dest O B_find O B_find_obj O...</td>\n      <td>[O, O, O, O, O, O, O, O, O, O, O, O, O, O, O, ...</td>\n    </tr>\n    <tr>\n      <th>13586</th>\n      <td>Navigate to the bedroom , look for the orange ...</td>\n      <td>B_go O O B_go_dest O B_find I_find O B_find_ob...</td>\n      <td>[O, O, O, O, O, O, O, O, B-referee, O, O, O, r...</td>\n    </tr>\n    <tr>\n      <th>55744</th>\n      <td>Find John , get the apple from the cupboard , ...</td>\n      <td>B_find B_find_per O B_take O B_take_obj O O B_...</td>\n      <td>[O, O, O, O, O, B-referee, O, O, O, O, O, O, r...</td>\n    </tr>\n    <tr>\n      <th>875</th>\n      <td>Spot James , grasp the paprika from the desk ,...</td>\n      <td>B_find B_find_per O B_take O B_take_obj O O B_...</td>\n      <td>[O, O, O, O, O, B-referee, O, O, O, O, O, O, r...</td>\n    </tr>\n    <tr>\n      <th>19890</th>\n      <td>Offer something to eat to all the standing men...</td>\n      <td>B_take B_take_obj I_take_obj I_take_obj O B_ta...</td>\n      <td>[O, O, O, O, O, O, O, O, O, O, O, O]</td>\n    </tr>\n  </tbody>\n</table>\n<p>32886 rows × 3 columns</p>\n</div>"
     },
     "metadata": {},
     "output_type": "display_data"
    },
    {
     "name": "stdout",
     "output_type": "stream",
     "text": [
      "------------------------------------------------------------------\n",
      "dev \n",
      "\n"
     ]
    },
    {
     "data": {
      "text/plain": "                                                  seq_in  \\\n56456  Could you please pinpoint Michael at the entra...   \n10453   Could you bring me the fruits at the center desk   \n14432  Bring me some drinks from the bag on the cupbo...   \n9051        Give me the left-most food from the bookcase   \n63703  Pinpoint Jennifer , locate Charlie at the dish...   \n...                                                  ...   \n12042  Locate a cup in the kitchen , spot a orange , ...   \n3154   Please leave a dish on the cupboard and a knif...   \n11978  Locate the grape juice , locate Elizabeth at t...   \n18010  Get to know Skyler at the desk , then greet he...   \n41682  Pinpoint Linda at the desk , take the orange ,...   \n\n                                                 seq_out  \\\n56456  O O O B_find B_find_per O O B_find_dest O B_fi...   \n10453  O O B_take B_take_dest O B_take_obj O O B_take...   \n14432  B_take B_take_dest O B_take_obj O O i I_take_s...   \n9051   B_take B_take_dest O i I_take_obj O O B_take_sour   \n63703  B_find B_find_per O B_find B_find_per O O B_fi...   \n...                                                  ...   \n12042  B_find O B_find_obj O O B_find_dest O B_find O...   \n3154   O B_take O B_take_obj O O B_take_dest O O B_ta...   \n11978  B_find O i I_find_obj O B_find B_find_per O O ...   \n18010  O O B_know B_find_per O O B_find_dest O O B_gr...   \n41682  B_find B_find_per O O B_find_dest O B_take O B...   \n\n                                                 seq_pro  \n56456  [O, O, O, O, O, O, O, O, O, O, O, O, O, O, O, ...  \n10453                     [O, O, O, O, O, O, O, O, O, O]  \n14432                  [O, O, O, O, O, O, O, O, O, O, O]  \n9051                            [O, O, O, O, O, O, O, O]  \n63703   [O, O, O, O, O, O, O, O, O, O, O, O, O, O, O, O]  \n...                                                  ...  \n12042  [O, O, O, O, O, O, O, O, O, O, O, O, O, O, O, ...  \n3154   [O, O, O, B-referee, O, O, O, O, O, O, O, refe...  \n11978  [O, O, O, O, O, O, B-referee, O, O, O, O, O, O...  \n18010  [O, O, O, B-referee, O, O, O, O, O, O, referra...  \n41682  [O, O, O, O, O, O, O, O, O, O, O, O, O, O, O, ...  \n\n[2192 rows x 3 columns]",
      "text/html": "<div>\n<style scoped>\n    .dataframe tbody tr th:only-of-type {\n        vertical-align: middle;\n    }\n\n    .dataframe tbody tr th {\n        vertical-align: top;\n    }\n\n    .dataframe thead th {\n        text-align: right;\n    }\n</style>\n<table border=\"1\" class=\"dataframe\">\n  <thead>\n    <tr style=\"text-align: right;\">\n      <th></th>\n      <th>seq_in</th>\n      <th>seq_out</th>\n      <th>seq_pro</th>\n    </tr>\n  </thead>\n  <tbody>\n    <tr>\n      <th>56456</th>\n      <td>Could you please pinpoint Michael at the entra...</td>\n      <td>O O O B_find B_find_per O O B_find_dest O B_fi...</td>\n      <td>[O, O, O, O, O, O, O, O, O, O, O, O, O, O, O, ...</td>\n    </tr>\n    <tr>\n      <th>10453</th>\n      <td>Could you bring me the fruits at the center desk</td>\n      <td>O O B_take B_take_dest O B_take_obj O O B_take...</td>\n      <td>[O, O, O, O, O, O, O, O, O, O]</td>\n    </tr>\n    <tr>\n      <th>14432</th>\n      <td>Bring me some drinks from the bag on the cupbo...</td>\n      <td>B_take B_take_dest O B_take_obj O O i I_take_s...</td>\n      <td>[O, O, O, O, O, O, O, O, O, O, O]</td>\n    </tr>\n    <tr>\n      <th>9051</th>\n      <td>Give me the left-most food from the bookcase</td>\n      <td>B_take B_take_dest O i I_take_obj O O B_take_sour</td>\n      <td>[O, O, O, O, O, O, O, O]</td>\n    </tr>\n    <tr>\n      <th>63703</th>\n      <td>Pinpoint Jennifer , locate Charlie at the dish...</td>\n      <td>B_find B_find_per O B_find B_find_per O O B_fi...</td>\n      <td>[O, O, O, O, O, O, O, O, O, O, O, O, O, O, O, O]</td>\n    </tr>\n    <tr>\n      <th>...</th>\n      <td>...</td>\n      <td>...</td>\n      <td>...</td>\n    </tr>\n    <tr>\n      <th>12042</th>\n      <td>Locate a cup in the kitchen , spot a orange , ...</td>\n      <td>B_find O B_find_obj O O B_find_dest O B_find O...</td>\n      <td>[O, O, O, O, O, O, O, O, O, O, O, O, O, O, O, ...</td>\n    </tr>\n    <tr>\n      <th>3154</th>\n      <td>Please leave a dish on the cupboard and a knif...</td>\n      <td>O B_take O B_take_obj O O B_take_dest O O B_ta...</td>\n      <td>[O, O, O, B-referee, O, O, O, O, O, O, O, refe...</td>\n    </tr>\n    <tr>\n      <th>11978</th>\n      <td>Locate the grape juice , locate Elizabeth at t...</td>\n      <td>B_find O i I_find_obj O B_find B_find_per O O ...</td>\n      <td>[O, O, O, O, O, O, B-referee, O, O, O, O, O, O...</td>\n    </tr>\n    <tr>\n      <th>18010</th>\n      <td>Get to know Skyler at the desk , then greet he...</td>\n      <td>O O B_know B_find_per O O B_find_dest O O B_gr...</td>\n      <td>[O, O, O, B-referee, O, O, O, O, O, O, referra...</td>\n    </tr>\n    <tr>\n      <th>41682</th>\n      <td>Pinpoint Linda at the desk , take the orange ,...</td>\n      <td>B_find B_find_per O O B_find_dest O B_take O B...</td>\n      <td>[O, O, O, O, O, O, O, O, O, O, O, O, O, O, O, ...</td>\n    </tr>\n  </tbody>\n</table>\n<p>2192 rows × 3 columns</p>\n</div>"
     },
     "metadata": {},
     "output_type": "display_data"
    },
    {
     "name": "stdout",
     "output_type": "stream",
     "text": [
      "------------------------------------------------------------------\n",
      "test \n",
      "\n"
     ]
    },
    {
     "data": {
      "text/plain": "                                                  seq_in  \\\n32631  Could you look for Mary , retrieve the orange ...   \n48280  Take the orange , bring it to Charlie at the b...   \n41401  Bring the paprika to the woman dressed in a wh...   \n34553  Could you bring the grape juice to the person ...   \n49822  Could you lead the youngest person in the dini...   \n...                                                  ...   \n9317   Set a tableware on the desk , pinpoint Skyler ...   \n56151  Could you navigate to the bookcase , look for ...   \n9886   Pinpoint a knife in the kitchen , pick up the ...   \n15140  Salute the person pointing to the right in the...   \n47836  Please lead the smallest man in the living roo...   \n\n                                                 seq_out  \\\n32631  O O B_find I_find B_find_per O B_take O B_take...   \n48280  B_take O B_take_obj O B_take B_take_obj O B_ta...   \n41401  B_take O B_take_obj O O i I_take_dest I_take_d...   \n34553  O O B_take O i I_take_obj O O i I_take_dest I_...   \n49822  O O B_guide O i I_follow_per O O i I_follow_so...   \n...                                                  ...   \n9317   B_take O B_take_obj O O B_take_dest O B_find B...   \n56151  O O B_go O O B_go_dest O B_find I_find B_find_...   \n9886   B_find O B_find_obj O O B_find_dest O B_take I...   \n15140  B_greet O i I_greet_per I_greet_per I_greet_pe...   \n47836  O B_guide O i I_follow_per O O i I_follow_sour...   \n\n                                                 seq_pro  \n32631  [O, O, O, O, O, O, O, O, B-referee, O, O, O, O...  \n48280  [O, O, B-referee, O, O, referral, O, O, O, O, ...  \n41401      [O, O, O, O, O, O, O, O, O, O, O, O, O, O, O]  \n34553  [O, O, O, O, O, O, O, O, O, O, O, O, O, O, O, ...  \n49822            [O, O, O, O, O, O, O, O, O, O, O, O, O]  \n...                                                  ...  \n9317   [O, O, O, O, O, O, O, O, O, O, O, O, O, O, O, ...  \n56151         [O, O, O, O, O, O, O, O, O, O, O, O, O, O]  \n9886   [O, O, O, O, O, O, O, O, O, O, O, O, O, O, O, ...  \n15140                     [O, O, O, O, O, O, O, O, O, O]  \n47836               [O, O, O, O, O, O, O, O, O, O, O, O]  \n\n[8771 rows x 3 columns]",
      "text/html": "<div>\n<style scoped>\n    .dataframe tbody tr th:only-of-type {\n        vertical-align: middle;\n    }\n\n    .dataframe tbody tr th {\n        vertical-align: top;\n    }\n\n    .dataframe thead th {\n        text-align: right;\n    }\n</style>\n<table border=\"1\" class=\"dataframe\">\n  <thead>\n    <tr style=\"text-align: right;\">\n      <th></th>\n      <th>seq_in</th>\n      <th>seq_out</th>\n      <th>seq_pro</th>\n    </tr>\n  </thead>\n  <tbody>\n    <tr>\n      <th>32631</th>\n      <td>Could you look for Mary , retrieve the orange ...</td>\n      <td>O O B_find I_find B_find_per O B_take O B_take...</td>\n      <td>[O, O, O, O, O, O, O, O, B-referee, O, O, O, O...</td>\n    </tr>\n    <tr>\n      <th>48280</th>\n      <td>Take the orange , bring it to Charlie at the b...</td>\n      <td>B_take O B_take_obj O B_take B_take_obj O B_ta...</td>\n      <td>[O, O, B-referee, O, O, referral, O, O, O, O, ...</td>\n    </tr>\n    <tr>\n      <th>41401</th>\n      <td>Bring the paprika to the woman dressed in a wh...</td>\n      <td>B_take O B_take_obj O O i I_take_dest I_take_d...</td>\n      <td>[O, O, O, O, O, O, O, O, O, O, O, O, O, O, O]</td>\n    </tr>\n    <tr>\n      <th>34553</th>\n      <td>Could you bring the grape juice to the person ...</td>\n      <td>O O B_take O i I_take_obj O O i I_take_dest I_...</td>\n      <td>[O, O, O, O, O, O, O, O, O, O, O, O, O, O, O, ...</td>\n    </tr>\n    <tr>\n      <th>49822</th>\n      <td>Could you lead the youngest person in the dini...</td>\n      <td>O O B_guide O i I_follow_per O O i I_follow_so...</td>\n      <td>[O, O, O, O, O, O, O, O, O, O, O, O, O]</td>\n    </tr>\n    <tr>\n      <th>...</th>\n      <td>...</td>\n      <td>...</td>\n      <td>...</td>\n    </tr>\n    <tr>\n      <th>9317</th>\n      <td>Set a tableware on the desk , pinpoint Skyler ...</td>\n      <td>B_take O B_take_obj O O B_take_dest O B_find B...</td>\n      <td>[O, O, O, O, O, O, O, O, O, O, O, O, O, O, O, ...</td>\n    </tr>\n    <tr>\n      <th>56151</th>\n      <td>Could you navigate to the bookcase , look for ...</td>\n      <td>O O B_go O O B_go_dest O B_find I_find B_find_...</td>\n      <td>[O, O, O, O, O, O, O, O, O, O, O, O, O, O]</td>\n    </tr>\n    <tr>\n      <th>9886</th>\n      <td>Pinpoint a knife in the kitchen , pick up the ...</td>\n      <td>B_find O B_find_obj O O B_find_dest O B_take I...</td>\n      <td>[O, O, O, O, O, O, O, O, O, O, O, O, O, O, O, ...</td>\n    </tr>\n    <tr>\n      <th>15140</th>\n      <td>Salute the person pointing to the right in the...</td>\n      <td>B_greet O i I_greet_per I_greet_per I_greet_pe...</td>\n      <td>[O, O, O, O, O, O, O, O, O, O]</td>\n    </tr>\n    <tr>\n      <th>47836</th>\n      <td>Please lead the smallest man in the living roo...</td>\n      <td>O B_guide O i I_follow_per O O i I_follow_sour...</td>\n      <td>[O, O, O, O, O, O, O, O, O, O, O, O]</td>\n    </tr>\n  </tbody>\n</table>\n<p>8771 rows × 3 columns</p>\n</div>"
     },
     "metadata": {},
     "output_type": "display_data"
    },
    {
     "name": "stdout",
     "output_type": "stream",
     "text": [
      "------------------------------------------------------------------\n"
     ]
    }
   ],
   "source": [
    "from sklearn.model_selection import train_test_split\n",
    "\n",
    "def split(df):\n",
    "    df_train, df_test_dev = train_test_split(df, test_size=0.25, random_state=42)\n",
    "    df_dev, df_test = train_test_split(df_test_dev, test_size=0.8, random_state=42)\n",
    "\n",
    "    env_dict = {'train' : df_train,\n",
    "               'dev' : df_dev,\n",
    "               'test' : df_test}\n",
    "    for df in env_dict.values():\n",
    "        df.columns = ['seq_in', 'seq_out', 'seq_pro']\n",
    "    return env_dict\n",
    "\n",
    "env_dict = split(df)\n",
    "for env,df in env_dict.items():\n",
    "    print(env,'\\n')\n",
    "    display(df)\n",
    "    print('------------------------------------------------------------------')"
   ],
   "metadata": {
    "collapsed": false
   }
  },
  {
   "cell_type": "code",
   "execution_count": 12,
   "outputs": [
    {
     "data": {
      "text/plain": "[0, 1, 4, 5]"
     },
     "execution_count": 12,
     "metadata": {},
     "output_type": "execute_result"
    }
   ],
   "source": [
    "# def find_sub_list(sub_list,this_list):\n",
    "#     start = this_list.index(sub_list[0])\n",
    "#     return (start,start+len(sub_list))\n",
    "\n",
    "def find_sub_list(subl, l):\n",
    "    # s_str = ' '.join(subl)\n",
    "    # f_str = ' '.join(l)\n",
    "    # num = f_str.count(s_str)\n",
    "    # print(num)\n",
    "    # ind_subl = []\n",
    "    # for i in range(num):\n",
    "    #     ind_subl.extend([i for i in range(len(l)) if l[i] in subl])\n",
    "    ind_subl = [i for i in range(len(l)) if l[i] in subl]\n",
    "    if len(ind_subl) == 1:\n",
    "        return [ind_subl[0]]\n",
    "    else:\n",
    "        return ind_subl#[ind_subl[0], ind_subl[-1]]\n",
    "\n",
    "l=['1','2','3','4','1','2']\n",
    "find_sub_list(['1','2'],l)\n",
    "\n",
    "# t = ([1,2],[3,4])\n",
    "# d = []\n",
    "# d = [d.extend(l) for l in t]\n",
    "# d\n",
    "#\n",
    "# a = [None,None,None,None]\n",
    "# a[[0,1,2]] = [1,1,1]"
   ],
   "metadata": {
    "collapsed": false
   }
  },
  {
   "cell_type": "code",
   "execution_count": 13,
   "outputs": [],
   "source": [
    "def seq_intent_out(com_lst,lab_lst):\n",
    "    out_int_lst = []\n",
    "\n",
    "    #polite = ['Please','Could you', 'Robot please', 'Could you please', 'please']\n",
    "    polite_unique = ['Please','Could you', 'Robot', 'please']\n",
    "\n",
    "    #sep = ['and', ',' , ', and']\n",
    "    sep_unique = ['and', ',' ]\n",
    "    for idx,(com,lab) in enumerate(zip(com_lst,lab_lst)):\n",
    "        # com = com.split()\n",
    "        # lab = lab.split()\n",
    "\n",
    "\n",
    "        # if idx > 10:\n",
    "        #     return\n",
    "        sentence = ' '.join(com)\n",
    "\n",
    "        polite_dict = {key:find_sub_list(key.split(' '),com) for key in polite_unique if key in sentence}\n",
    "        polite_idx = []\n",
    "        for ele in polite_dict.values():\n",
    "            polite_idx.extend(ele)\n",
    "\n",
    "        sep_dict = {key:find_sub_list(key.split(' '),com) for key in sep_unique if key in sentence}\n",
    "        sep_idx = []\n",
    "        for ele in sep_dict.values():\n",
    "            sep_idx.extend(ele)\n",
    "\n",
    "        non_intent_idx = polite_idx + sep_idx\n",
    "        lst = ['O' if i in non_intent_idx else None for i in range(len(lab))]\n",
    "\n",
    "        intent_lst = []\n",
    "\n",
    "        B = True\n",
    "        for i,ele in enumerate(lst):\n",
    "            if ele == None and B ==True:\n",
    "                B = False\n",
    "                intent_lst.append({})\n",
    "                instance_dict = intent_lst[-1]\n",
    "                intent_idx = [i]\n",
    "\n",
    "                if lab[i].count('_') == 2:\n",
    "                    intent = lab[i].split('_')[1]\n",
    "                    instance_dict.update({intent:intent_idx})\n",
    "\n",
    "            elif ele == None and B == False:\n",
    "                intent_idx.append(i)\n",
    "                if lab[i].count('_') == 2:\n",
    "                    intent = lab[i].split('_')[1]\n",
    "                    instance_dict.update({intent:intent_idx})\n",
    "                    # print(i)\n",
    "                    # print(lab[i])\n",
    "\n",
    "            elif ele == 'O':\n",
    "                B = True\n",
    "\n",
    "        intent_seq = [ele for ele in lst]\n",
    "        for instance_dict in intent_lst:\n",
    "            for intent, idx_lst in instance_dict.items():\n",
    "                begin = idx_lst.pop(0)\n",
    "                intent_seq[begin] = 'B-' + intent\n",
    "                for i in idx_lst:\n",
    "                    intent_seq[i] = 'I-' + intent\n",
    "\n",
    "        out_int_lst.append(intent_seq)\n",
    "        #print(intent_seq)\n",
    "\n",
    "        # if idx == 2:\n",
    "        #     print('  '.join(com))\n",
    "        #     print('polite_dict: ',polite_dict)\n",
    "        #     print('sep_dict: ',sep_dict)\n",
    "        #     print('lst: ', lst)\n",
    "        #     print('intent_lst: ',intent_lst)\n",
    "        #     print(intent_seq)\n",
    "        #     print('-----------------------------------------------------------')\n",
    "    return out_int_lst\n",
    "\n",
    "\n",
    "#\n",
    "# lab_lst = [ele.split() for ele in env_dict['train']['seq_out'].tolist()]\n",
    "# com_lst = [ele.split() for ele in env_dict['train']['seq_in'].tolist()]\n",
    "# seq_intent_out(com_lst,lab_lst)"
   ],
   "metadata": {
    "collapsed": false
   }
  },
  {
   "cell_type": "code",
   "execution_count": 14,
   "outputs": [
    {
     "name": "stdout",
     "output_type": "stream",
     "text": [
      "train \n",
      "\n"
     ]
    },
    {
     "data": {
      "text/plain": "                                                  seq_in  \\\n465    Please offer something to eat to all the child...   \n44727  Place the fork in the kitchen , grasp the appl...   \n8371   Could you please pinpoint Francis , grasp the ...   \n47003  Follow the person wearing a gray jacket in the...   \n62991         Place a dish on the sink and a spoon on it   \n...                                                  ...   \n7058   Please go to the living room , find the fruits...   \n13586  Navigate to the bedroom , look for the orange ...   \n55744  Find John , get the apple from the cupboard , ...   \n875    Spot James , grasp the paprika from the desk ,...   \n19890  Offer something to eat to all the standing men...   \n\n                                                 seq_out  \\\n465    [O, O, B-obj, I-obj, I-obj, O, B-dest, I-dest,...   \n44727  [O, O, B-obj, O, O, B-dest, O, O, O, B-obj, O,...   \n8371   [O, O, O, O, B-per, O, O, O, B-obj, O, O, B-so...   \n47003  [O, O, O, I-per, I-per, I-per, I-per, O, O, B-...   \n62991  [O, O, B-obj, O, O, B-dest, O, O, B-obj, B-des...   \n...                                                  ...   \n7058   [O, O, O, O, O, I-dest, O, O, O, B-obj, O, O, ...   \n13586  [O, O, O, B-dest, O, O, O, O, B-obj, O, O, O, ...   \n55744  [O, B-per, O, O, O, B-obj, O, O, B-sour, O, O,...   \n875    [O, B-per, O, O, O, B-obj, O, O, B-sour, O, O,...   \n19890  [O, B-obj, I-obj, I-obj, O, B-dest, I-dest, O,...   \n\n                                                 seq_pro  \\\n465     [O, O, O, O, O, O, O, O, O, O, O, O, O, O, O, O]   \n44727  [O, O, O, O, O, O, O, O, O, B-referee, O, O, O...   \n8371   [O, O, O, O, O, O, O, O, B-referee, O, O, O, O...   \n47003                     [O, O, O, O, O, O, O, O, O, O]   \n62991   [O, O, B-referee, O, O, O, O, O, O, O, referral]   \n...                                                  ...   \n7058   [O, O, O, O, O, O, O, O, O, O, O, O, O, O, O, ...   \n13586  [O, O, O, O, O, O, O, O, B-referee, O, O, O, r...   \n55744  [O, O, O, O, O, B-referee, O, O, O, O, O, O, r...   \n875    [O, O, O, O, O, B-referee, O, O, O, O, O, O, r...   \n19890               [O, O, O, O, O, O, O, O, O, O, O, O]   \n\n                                                   label  \\\n465                                    [B-take#, I-take]   \n44727                                  [B-take#, I-take]   \n8371                 [B-find#, I-find#, B-take#, I-take]   \n47003                              [B-follow#, I-follow]   \n62991                                  [B-take#, I-take]   \n...                                                  ...   \n7058                     [B-go#, I-go#, B-find#, I-find]   \n13586  [B-go#, I-go#, B-find#, I-find#, B-take#, I-take]   \n55744                [B-find#, I-find#, B-take#, I-take]   \n875                  [B-find#, I-find#, B-take#, I-take]   \n19890                                  [B-take#, I-take]   \n\n                                              seq_intent  \n465    [O, B-take, I-take, I-take, I-take, I-take, I-...  \n44727  [B-take, I-take, I-take, I-take, I-take, I-tak...  \n8371   [O, O, O, B-find, I-find, O, B-take, I-take, I...  \n47003  [B-follow, I-follow, I-follow, I-follow, I-fol...  \n62991  [B-take, I-take, I-take, I-take, I-take, I-tak...  \n...                                                  ...  \n7058   [O, B-go, I-go, I-go, I-go, I-go, O, B-find, I...  \n13586  [B-go, I-go, I-go, I-go, O, B-find, I-find, I-...  \n55744  [B-find, I-find, O, B-take, I-take, I-take, I-...  \n875    [B-find, I-find, O, B-take, I-take, I-take, I-...  \n19890  [B-take, I-take, I-take, I-take, I-take, I-tak...  \n\n[32886 rows x 5 columns]",
      "text/html": "<div>\n<style scoped>\n    .dataframe tbody tr th:only-of-type {\n        vertical-align: middle;\n    }\n\n    .dataframe tbody tr th {\n        vertical-align: top;\n    }\n\n    .dataframe thead th {\n        text-align: right;\n    }\n</style>\n<table border=\"1\" class=\"dataframe\">\n  <thead>\n    <tr style=\"text-align: right;\">\n      <th></th>\n      <th>seq_in</th>\n      <th>seq_out</th>\n      <th>seq_pro</th>\n      <th>label</th>\n      <th>seq_intent</th>\n    </tr>\n  </thead>\n  <tbody>\n    <tr>\n      <th>465</th>\n      <td>Please offer something to eat to all the child...</td>\n      <td>[O, O, B-obj, I-obj, I-obj, O, B-dest, I-dest,...</td>\n      <td>[O, O, O, O, O, O, O, O, O, O, O, O, O, O, O, O]</td>\n      <td>[B-take#, I-take]</td>\n      <td>[O, B-take, I-take, I-take, I-take, I-take, I-...</td>\n    </tr>\n    <tr>\n      <th>44727</th>\n      <td>Place the fork in the kitchen , grasp the appl...</td>\n      <td>[O, O, B-obj, O, O, B-dest, O, O, O, B-obj, O,...</td>\n      <td>[O, O, O, O, O, O, O, O, O, B-referee, O, O, O...</td>\n      <td>[B-take#, I-take]</td>\n      <td>[B-take, I-take, I-take, I-take, I-take, I-tak...</td>\n    </tr>\n    <tr>\n      <th>8371</th>\n      <td>Could you please pinpoint Francis , grasp the ...</td>\n      <td>[O, O, O, O, B-per, O, O, O, B-obj, O, O, B-so...</td>\n      <td>[O, O, O, O, O, O, O, O, B-referee, O, O, O, O...</td>\n      <td>[B-find#, I-find#, B-take#, I-take]</td>\n      <td>[O, O, O, B-find, I-find, O, B-take, I-take, I...</td>\n    </tr>\n    <tr>\n      <th>47003</th>\n      <td>Follow the person wearing a gray jacket in the...</td>\n      <td>[O, O, O, I-per, I-per, I-per, I-per, O, O, B-...</td>\n      <td>[O, O, O, O, O, O, O, O, O, O]</td>\n      <td>[B-follow#, I-follow]</td>\n      <td>[B-follow, I-follow, I-follow, I-follow, I-fol...</td>\n    </tr>\n    <tr>\n      <th>62991</th>\n      <td>Place a dish on the sink and a spoon on it</td>\n      <td>[O, O, B-obj, O, O, B-dest, O, O, B-obj, B-des...</td>\n      <td>[O, O, B-referee, O, O, O, O, O, O, O, referral]</td>\n      <td>[B-take#, I-take]</td>\n      <td>[B-take, I-take, I-take, I-take, I-take, I-tak...</td>\n    </tr>\n    <tr>\n      <th>...</th>\n      <td>...</td>\n      <td>...</td>\n      <td>...</td>\n      <td>...</td>\n      <td>...</td>\n    </tr>\n    <tr>\n      <th>7058</th>\n      <td>Please go to the living room , find the fruits...</td>\n      <td>[O, O, O, O, O, I-dest, O, O, O, B-obj, O, O, ...</td>\n      <td>[O, O, O, O, O, O, O, O, O, O, O, O, O, O, O, ...</td>\n      <td>[B-go#, I-go#, B-find#, I-find]</td>\n      <td>[O, B-go, I-go, I-go, I-go, I-go, O, B-find, I...</td>\n    </tr>\n    <tr>\n      <th>13586</th>\n      <td>Navigate to the bedroom , look for the orange ...</td>\n      <td>[O, O, O, B-dest, O, O, O, O, B-obj, O, O, O, ...</td>\n      <td>[O, O, O, O, O, O, O, O, B-referee, O, O, O, r...</td>\n      <td>[B-go#, I-go#, B-find#, I-find#, B-take#, I-take]</td>\n      <td>[B-go, I-go, I-go, I-go, O, B-find, I-find, I-...</td>\n    </tr>\n    <tr>\n      <th>55744</th>\n      <td>Find John , get the apple from the cupboard , ...</td>\n      <td>[O, B-per, O, O, O, B-obj, O, O, B-sour, O, O,...</td>\n      <td>[O, O, O, O, O, B-referee, O, O, O, O, O, O, r...</td>\n      <td>[B-find#, I-find#, B-take#, I-take]</td>\n      <td>[B-find, I-find, O, B-take, I-take, I-take, I-...</td>\n    </tr>\n    <tr>\n      <th>875</th>\n      <td>Spot James , grasp the paprika from the desk ,...</td>\n      <td>[O, B-per, O, O, O, B-obj, O, O, B-sour, O, O,...</td>\n      <td>[O, O, O, O, O, B-referee, O, O, O, O, O, O, r...</td>\n      <td>[B-find#, I-find#, B-take#, I-take]</td>\n      <td>[B-find, I-find, O, B-take, I-take, I-take, I-...</td>\n    </tr>\n    <tr>\n      <th>19890</th>\n      <td>Offer something to eat to all the standing men...</td>\n      <td>[O, B-obj, I-obj, I-obj, O, B-dest, I-dest, O,...</td>\n      <td>[O, O, O, O, O, O, O, O, O, O, O, O]</td>\n      <td>[B-take#, I-take]</td>\n      <td>[B-take, I-take, I-take, I-take, I-take, I-tak...</td>\n    </tr>\n  </tbody>\n</table>\n<p>32886 rows × 5 columns</p>\n</div>"
     },
     "metadata": {},
     "output_type": "display_data"
    },
    {
     "name": "stdout",
     "output_type": "stream",
     "text": [
      "------------------------------------------------------------------\n",
      "dev \n",
      "\n"
     ]
    },
    {
     "data": {
      "text/plain": "                                                  seq_in  \\\n56456  Could you please pinpoint Michael at the entra...   \n10453   Could you bring me the fruits at the center desk   \n14432  Bring me some drinks from the bag on the cupbo...   \n9051        Give me the left-most food from the bookcase   \n63703  Pinpoint Jennifer , locate Charlie at the dish...   \n...                                                  ...   \n12042  Locate a cup in the kitchen , spot a orange , ...   \n3154   Please leave a dish on the cupboard and a knif...   \n11978  Locate the grape juice , locate Elizabeth at t...   \n18010  Get to know Skyler at the desk , then greet he...   \n41682  Pinpoint Linda at the desk , take the orange ,...   \n\n                                                 seq_out  \\\n56456  [O, O, O, O, B-per, O, O, B-dest, O, O, B-per,...   \n10453  [O, O, O, B-dest, O, B-obj, O, O, B-sour, I-sour]   \n14432  [O, B-dest, O, B-obj, O, O, O, I-sour, I-sour,...   \n9051              [O, B-dest, O, O, I-obj, O, O, B-sour]   \n63703  [O, B-per, O, O, B-per, O, O, B-dest, O, O, O,...   \n...                                                  ...   \n12042  [O, O, B-obj, O, O, B-dest, O, O, O, B-obj, O,...   \n3154   [O, O, O, B-obj, O, O, B-dest, O, O, B-obj, B-...   \n11978  [O, O, O, I-obj, O, O, B-per, O, O, O, I-dest,...   \n18010  [O, O, O, B-per, O, O, B-dest, O, O, O, B-per, O]   \n41682  [O, B-per, O, O, B-dest, O, O, O, B-obj, O, O,...   \n\n                                                 seq_pro  \\\n56456  [O, O, O, O, O, O, O, O, O, O, O, O, O, O, O, ...   \n10453                     [O, O, O, O, O, O, O, O, O, O]   \n14432                  [O, O, O, O, O, O, O, O, O, O, O]   \n9051                            [O, O, O, O, O, O, O, O]   \n63703   [O, O, O, O, O, O, O, O, O, O, O, O, O, O, O, O]   \n...                                                  ...   \n12042  [O, O, O, O, O, O, O, O, O, O, O, O, O, O, O, ...   \n3154   [O, O, O, B-referee, O, O, O, O, O, O, O, refe...   \n11978  [O, O, O, O, O, O, B-referee, O, O, O, O, O, O...   \n18010  [O, O, O, B-referee, O, O, O, O, O, O, referra...   \n41682  [O, O, O, O, O, O, O, O, O, O, O, O, O, O, O, ...   \n\n                                       label  \\\n56456  [B-find#, I-find#, B-guide#, I-guide]   \n10453                      [B-take#, I-take]   \n14432                      [B-take#, I-take]   \n9051                       [B-take#, I-take]   \n63703  [B-find#, I-find#, B-guide#, I-guide]   \n...                                      ...   \n12042                      [B-find#, I-find]   \n3154                       [B-take#, I-take]   \n11978  [B-find#, I-find#, B-guide#, I-guide]   \n18010  [B-find#, I-find#, B-greet#, I-greet]   \n41682    [B-find#, I-find#, B-take#, I-take]   \n\n                                              seq_intent  \n56456  [O, O, O, B-find, I-find, I-find, I-find, I-fi...  \n10453  [O, O, B-take, I-take, I-take, I-take, I-take,...  \n14432  [B-take, I-take, I-take, I-take, I-take, I-tak...  \n9051   [B-take, I-take, I-take, I-take, I-take, I-tak...  \n63703  [B-find, I-find, O, B-find, I-find, I-find, I-...  \n...                                                  ...  \n12042  [B-find, I-find, I-find, I-find, I-find, I-fin...  \n3154   [O, B-take, I-take, I-take, I-take, I-take, I-...  \n11978  [B-find, I-find, I-find, I-find, O, B-find, I-...  \n18010  [B-find, I-find, I-find, I-find, I-find, I-fin...  \n41682  [B-find, I-find, I-find, I-find, I-find, O, B-...  \n\n[2192 rows x 5 columns]",
      "text/html": "<div>\n<style scoped>\n    .dataframe tbody tr th:only-of-type {\n        vertical-align: middle;\n    }\n\n    .dataframe tbody tr th {\n        vertical-align: top;\n    }\n\n    .dataframe thead th {\n        text-align: right;\n    }\n</style>\n<table border=\"1\" class=\"dataframe\">\n  <thead>\n    <tr style=\"text-align: right;\">\n      <th></th>\n      <th>seq_in</th>\n      <th>seq_out</th>\n      <th>seq_pro</th>\n      <th>label</th>\n      <th>seq_intent</th>\n    </tr>\n  </thead>\n  <tbody>\n    <tr>\n      <th>56456</th>\n      <td>Could you please pinpoint Michael at the entra...</td>\n      <td>[O, O, O, O, B-per, O, O, B-dest, O, O, B-per,...</td>\n      <td>[O, O, O, O, O, O, O, O, O, O, O, O, O, O, O, ...</td>\n      <td>[B-find#, I-find#, B-guide#, I-guide]</td>\n      <td>[O, O, O, B-find, I-find, I-find, I-find, I-fi...</td>\n    </tr>\n    <tr>\n      <th>10453</th>\n      <td>Could you bring me the fruits at the center desk</td>\n      <td>[O, O, O, B-dest, O, B-obj, O, O, B-sour, I-sour]</td>\n      <td>[O, O, O, O, O, O, O, O, O, O]</td>\n      <td>[B-take#, I-take]</td>\n      <td>[O, O, B-take, I-take, I-take, I-take, I-take,...</td>\n    </tr>\n    <tr>\n      <th>14432</th>\n      <td>Bring me some drinks from the bag on the cupbo...</td>\n      <td>[O, B-dest, O, B-obj, O, O, O, I-sour, I-sour,...</td>\n      <td>[O, O, O, O, O, O, O, O, O, O, O]</td>\n      <td>[B-take#, I-take]</td>\n      <td>[B-take, I-take, I-take, I-take, I-take, I-tak...</td>\n    </tr>\n    <tr>\n      <th>9051</th>\n      <td>Give me the left-most food from the bookcase</td>\n      <td>[O, B-dest, O, O, I-obj, O, O, B-sour]</td>\n      <td>[O, O, O, O, O, O, O, O]</td>\n      <td>[B-take#, I-take]</td>\n      <td>[B-take, I-take, I-take, I-take, I-take, I-tak...</td>\n    </tr>\n    <tr>\n      <th>63703</th>\n      <td>Pinpoint Jennifer , locate Charlie at the dish...</td>\n      <td>[O, B-per, O, O, B-per, O, O, B-dest, O, O, O,...</td>\n      <td>[O, O, O, O, O, O, O, O, O, O, O, O, O, O, O, O]</td>\n      <td>[B-find#, I-find#, B-guide#, I-guide]</td>\n      <td>[B-find, I-find, O, B-find, I-find, I-find, I-...</td>\n    </tr>\n    <tr>\n      <th>...</th>\n      <td>...</td>\n      <td>...</td>\n      <td>...</td>\n      <td>...</td>\n      <td>...</td>\n    </tr>\n    <tr>\n      <th>12042</th>\n      <td>Locate a cup in the kitchen , spot a orange , ...</td>\n      <td>[O, O, B-obj, O, O, B-dest, O, O, O, B-obj, O,...</td>\n      <td>[O, O, O, O, O, O, O, O, O, O, O, O, O, O, O, ...</td>\n      <td>[B-find#, I-find]</td>\n      <td>[B-find, I-find, I-find, I-find, I-find, I-fin...</td>\n    </tr>\n    <tr>\n      <th>3154</th>\n      <td>Please leave a dish on the cupboard and a knif...</td>\n      <td>[O, O, O, B-obj, O, O, B-dest, O, O, B-obj, B-...</td>\n      <td>[O, O, O, B-referee, O, O, O, O, O, O, O, refe...</td>\n      <td>[B-take#, I-take]</td>\n      <td>[O, B-take, I-take, I-take, I-take, I-take, I-...</td>\n    </tr>\n    <tr>\n      <th>11978</th>\n      <td>Locate the grape juice , locate Elizabeth at t...</td>\n      <td>[O, O, O, I-obj, O, O, B-per, O, O, O, I-dest,...</td>\n      <td>[O, O, O, O, O, O, B-referee, O, O, O, O, O, O...</td>\n      <td>[B-find#, I-find#, B-guide#, I-guide]</td>\n      <td>[B-find, I-find, I-find, I-find, O, B-find, I-...</td>\n    </tr>\n    <tr>\n      <th>18010</th>\n      <td>Get to know Skyler at the desk , then greet he...</td>\n      <td>[O, O, O, B-per, O, O, B-dest, O, O, O, B-per, O]</td>\n      <td>[O, O, O, B-referee, O, O, O, O, O, O, referra...</td>\n      <td>[B-find#, I-find#, B-greet#, I-greet]</td>\n      <td>[B-find, I-find, I-find, I-find, I-find, I-fin...</td>\n    </tr>\n    <tr>\n      <th>41682</th>\n      <td>Pinpoint Linda at the desk , take the orange ,...</td>\n      <td>[O, B-per, O, O, B-dest, O, O, O, B-obj, O, O,...</td>\n      <td>[O, O, O, O, O, O, O, O, O, O, O, O, O, O, O, ...</td>\n      <td>[B-find#, I-find#, B-take#, I-take]</td>\n      <td>[B-find, I-find, I-find, I-find, I-find, O, B-...</td>\n    </tr>\n  </tbody>\n</table>\n<p>2192 rows × 5 columns</p>\n</div>"
     },
     "metadata": {},
     "output_type": "display_data"
    },
    {
     "name": "stdout",
     "output_type": "stream",
     "text": [
      "------------------------------------------------------------------\n",
      "test \n",
      "\n"
     ]
    },
    {
     "data": {
      "text/plain": "                                                  seq_in  \\\n32631  Could you look for Mary , retrieve the orange ...   \n48280  Take the orange , bring it to Charlie at the b...   \n41401  Bring the paprika to the woman dressed in a wh...   \n34553  Could you bring the grape juice to the person ...   \n49822  Could you lead the youngest person in the dini...   \n...                                                  ...   \n9317   Set a tableware on the desk , pinpoint Skyler ...   \n56151  Could you navigate to the bookcase , look for ...   \n9886   Pinpoint a knife in the kitchen , pick up the ...   \n15140  Salute the person pointing to the right in the...   \n47836  Please lead the smallest man in the living roo...   \n\n                                                 seq_out  \\\n32631  [O, O, O, O, B-per, O, O, O, B-obj, O, O, B-so...   \n48280  [O, O, B-obj, O, O, B-obj, O, B-dest, O, O, B-...   \n41401  [O, O, B-obj, O, O, O, I-dest, I-dest, I-dest,...   \n34553  [O, O, O, O, O, I-obj, O, O, O, I-dest, I-dest...   \n49822  [O, O, O, O, O, I-per, O, O, O, I-sour, O, O, ...   \n...                                                  ...   \n9317   [O, O, B-obj, O, O, B-dest, O, O, B-per, O, O,...   \n56151  [O, O, O, O, O, B-dest, O, O, O, B-per, O, O, ...   \n9886   [O, O, B-obj, O, O, B-dest, O, O, O, O, B-obj,...   \n15140  [O, O, O, I-per, I-per, I-per, I-per, O, O, B-...   \n47836  [O, O, O, O, I-per, O, O, O, I-sour, O, O, B-d...   \n\n                                                 seq_pro  \\\n32631  [O, O, O, O, O, O, O, O, B-referee, O, O, O, O...   \n48280  [O, O, B-referee, O, O, referral, O, O, O, O, ...   \n41401      [O, O, O, O, O, O, O, O, O, O, O, O, O, O, O]   \n34553  [O, O, O, O, O, O, O, O, O, O, O, O, O, O, O, ...   \n49822            [O, O, O, O, O, O, O, O, O, O, O, O, O]   \n...                                                  ...   \n9317   [O, O, O, O, O, O, O, O, O, O, O, O, O, O, O, ...   \n56151         [O, O, O, O, O, O, O, O, O, O, O, O, O, O]   \n9886   [O, O, O, O, O, O, O, O, O, O, O, O, O, O, O, ...   \n15140                     [O, O, O, O, O, O, O, O, O, O]   \n47836               [O, O, O, O, O, O, O, O, O, O, O, O]   \n\n                                                   label  \\\n32631                [B-find#, I-find#, B-take#, I-take]   \n48280                                  [B-take#, I-take]   \n41401                                  [B-take#, I-take]   \n34553                                  [B-take#, I-take]   \n49822                     [B-follow#, B-guide#, I-guide]   \n...                                                  ...   \n9317                 [B-take#, I-take#, B-find#, I-find]   \n56151  [B-go#, I-go#, B-find#, I-find#, B-guide#, I-g...   \n9886                 [B-find#, I-find#, B-take#, I-take]   \n15140                                [B-greet#, I-greet]   \n47836                     [B-follow#, B-guide#, I-guide]   \n\n                                              seq_intent  \n32631  [O, O, B-find, I-find, I-find, O, B-take, I-ta...  \n48280  [B-take, I-take, I-take, O, B-take, I-take, I-...  \n41401  [B-take, I-take, I-take, I-take, I-take, I-tak...  \n34553  [O, O, B-take, I-take, I-take, I-take, I-take,...  \n49822  [O, O, B-follow, B-guide, I-guide, I-guide, I-...  \n...                                                  ...  \n9317   [B-take, I-take, I-take, I-take, I-take, I-tak...  \n56151  [O, O, B-go, I-go, I-go, I-go, O, B-find, I-fi...  \n9886   [B-find, I-find, I-find, I-find, I-find, I-fin...  \n15140  [B-greet, I-greet, I-greet, I-greet, I-greet, ...  \n47836  [O, B-follow, B-guide, I-guide, I-guide, I-gui...  \n\n[8771 rows x 5 columns]",
      "text/html": "<div>\n<style scoped>\n    .dataframe tbody tr th:only-of-type {\n        vertical-align: middle;\n    }\n\n    .dataframe tbody tr th {\n        vertical-align: top;\n    }\n\n    .dataframe thead th {\n        text-align: right;\n    }\n</style>\n<table border=\"1\" class=\"dataframe\">\n  <thead>\n    <tr style=\"text-align: right;\">\n      <th></th>\n      <th>seq_in</th>\n      <th>seq_out</th>\n      <th>seq_pro</th>\n      <th>label</th>\n      <th>seq_intent</th>\n    </tr>\n  </thead>\n  <tbody>\n    <tr>\n      <th>32631</th>\n      <td>Could you look for Mary , retrieve the orange ...</td>\n      <td>[O, O, O, O, B-per, O, O, O, B-obj, O, O, B-so...</td>\n      <td>[O, O, O, O, O, O, O, O, B-referee, O, O, O, O...</td>\n      <td>[B-find#, I-find#, B-take#, I-take]</td>\n      <td>[O, O, B-find, I-find, I-find, O, B-take, I-ta...</td>\n    </tr>\n    <tr>\n      <th>48280</th>\n      <td>Take the orange , bring it to Charlie at the b...</td>\n      <td>[O, O, B-obj, O, O, B-obj, O, B-dest, O, O, B-...</td>\n      <td>[O, O, B-referee, O, O, referral, O, O, O, O, ...</td>\n      <td>[B-take#, I-take]</td>\n      <td>[B-take, I-take, I-take, O, B-take, I-take, I-...</td>\n    </tr>\n    <tr>\n      <th>41401</th>\n      <td>Bring the paprika to the woman dressed in a wh...</td>\n      <td>[O, O, B-obj, O, O, O, I-dest, I-dest, I-dest,...</td>\n      <td>[O, O, O, O, O, O, O, O, O, O, O, O, O, O, O]</td>\n      <td>[B-take#, I-take]</td>\n      <td>[B-take, I-take, I-take, I-take, I-take, I-tak...</td>\n    </tr>\n    <tr>\n      <th>34553</th>\n      <td>Could you bring the grape juice to the person ...</td>\n      <td>[O, O, O, O, O, I-obj, O, O, O, I-dest, I-dest...</td>\n      <td>[O, O, O, O, O, O, O, O, O, O, O, O, O, O, O, ...</td>\n      <td>[B-take#, I-take]</td>\n      <td>[O, O, B-take, I-take, I-take, I-take, I-take,...</td>\n    </tr>\n    <tr>\n      <th>49822</th>\n      <td>Could you lead the youngest person in the dini...</td>\n      <td>[O, O, O, O, O, I-per, O, O, O, I-sour, O, O, ...</td>\n      <td>[O, O, O, O, O, O, O, O, O, O, O, O, O]</td>\n      <td>[B-follow#, B-guide#, I-guide]</td>\n      <td>[O, O, B-follow, B-guide, I-guide, I-guide, I-...</td>\n    </tr>\n    <tr>\n      <th>...</th>\n      <td>...</td>\n      <td>...</td>\n      <td>...</td>\n      <td>...</td>\n      <td>...</td>\n    </tr>\n    <tr>\n      <th>9317</th>\n      <td>Set a tableware on the desk , pinpoint Skyler ...</td>\n      <td>[O, O, B-obj, O, O, B-dest, O, O, B-per, O, O,...</td>\n      <td>[O, O, O, O, O, O, O, O, O, O, O, O, O, O, O, ...</td>\n      <td>[B-take#, I-take#, B-find#, I-find]</td>\n      <td>[B-take, I-take, I-take, I-take, I-take, I-tak...</td>\n    </tr>\n    <tr>\n      <th>56151</th>\n      <td>Could you navigate to the bookcase , look for ...</td>\n      <td>[O, O, O, O, O, B-dest, O, O, O, B-per, O, O, ...</td>\n      <td>[O, O, O, O, O, O, O, O, O, O, O, O, O, O]</td>\n      <td>[B-go#, I-go#, B-find#, I-find#, B-guide#, I-g...</td>\n      <td>[O, O, B-go, I-go, I-go, I-go, O, B-find, I-fi...</td>\n    </tr>\n    <tr>\n      <th>9886</th>\n      <td>Pinpoint a knife in the kitchen , pick up the ...</td>\n      <td>[O, O, B-obj, O, O, B-dest, O, O, O, O, B-obj,...</td>\n      <td>[O, O, O, O, O, O, O, O, O, O, O, O, O, O, O, ...</td>\n      <td>[B-find#, I-find#, B-take#, I-take]</td>\n      <td>[B-find, I-find, I-find, I-find, I-find, I-fin...</td>\n    </tr>\n    <tr>\n      <th>15140</th>\n      <td>Salute the person pointing to the right in the...</td>\n      <td>[O, O, O, I-per, I-per, I-per, I-per, O, O, B-...</td>\n      <td>[O, O, O, O, O, O, O, O, O, O]</td>\n      <td>[B-greet#, I-greet]</td>\n      <td>[B-greet, I-greet, I-greet, I-greet, I-greet, ...</td>\n    </tr>\n    <tr>\n      <th>47836</th>\n      <td>Please lead the smallest man in the living roo...</td>\n      <td>[O, O, O, O, I-per, O, O, O, I-sour, O, O, B-d...</td>\n      <td>[O, O, O, O, O, O, O, O, O, O, O, O]</td>\n      <td>[B-follow#, B-guide#, I-guide]</td>\n      <td>[O, B-follow, B-guide, I-guide, I-guide, I-gui...</td>\n    </tr>\n  </tbody>\n</table>\n<p>8771 rows × 5 columns</p>\n</div>"
     },
     "metadata": {},
     "output_type": "display_data"
    },
    {
     "name": "stdout",
     "output_type": "stream",
     "text": [
      "------------------------------------------------------------------\n"
     ]
    }
   ],
   "source": [
    "def write(f_name,data_lst, space = True):\n",
    "    with open(f_name, 'w') as f:\n",
    "        for lst in data_lst:\n",
    "            if space == True:\n",
    "                com = ' '.join(lst)\n",
    "            else:\n",
    "                com = ''.join(lst)\n",
    "            f.write(com)\n",
    "            f.write('\\n')\n",
    "\n",
    "\n",
    "\n",
    "\n",
    "def gen_files(env_name, data_df):\n",
    "    # get seq out\n",
    "    lab_lst = [ele.split() for ele in data_df['seq_out'].tolist()]\n",
    "    #get seq in\n",
    "    com_lst = [ele.split() for ele in data_df['seq_in'].tolist()]\n",
    "    #get pro labels lst\n",
    "    pro_labels = data_df['seq_pro'].tolist()\n",
    "\n",
    "#     # get intent out\n",
    "#     int_lst = []\n",
    "#     for sample_lab in lab_lst:\n",
    "#         lst = []\n",
    "#         for ele in sample_lab:\n",
    "#             if '_' not in ele:\n",
    "#                 lst.append('O')\n",
    "#             else:\n",
    "#                 start = ele.find('_') + 1\n",
    "#                 if ele.count('_') == 2:\n",
    "#                     end = ele.rfind('_')\n",
    "#                     lst.append(ele[start:end])\n",
    "# #################### turns out we don't need to label the verb ###################\n",
    "#                 else:\n",
    "#                     lst.append('O') # verb -> 'O'\n",
    "# #                     lst.append(ele[start:])\n",
    "#\n",
    "#\n",
    "#         int_lst.append(lst)\n",
    "\n",
    "    int_lst = seq_intent_out(com_lst,lab_lst)\n",
    "\n",
    "    # get label\n",
    "    label = []\n",
    "    for lab_seq in int_lst:\n",
    "        lst = []\n",
    "        for lab in lab_seq:\n",
    "            if lab == 'O':\n",
    "                continue\n",
    "            elif len(lst) == 0:\n",
    "                lst.append(lab)\n",
    "            elif lab not in lst:\n",
    "                lst.append(lab)\n",
    "        hash_taged = [ele+'#' if i != len(lst)-1 else ele for i,ele in enumerate(lst)]\n",
    "        label.append(hash_taged)\n",
    "\n",
    "\n",
    "    # get seq out\n",
    "    # 1. remove the intent label out of the seq out\n",
    "    lab_lst = [ele.split() for ele in data_df['seq_out'].tolist()]\n",
    "    lab_lst = [[ele if ele.count('_') == 2 else 'O' for ele in lst] for lst in lab_lst]\n",
    "    # 2. remove the intentions names in the slot names\n",
    "    slot_seq = []\n",
    "    for ite,one_seq in enumerate(lab_lst):\n",
    "        lst = []\n",
    "        for slot in one_seq:\n",
    "\n",
    "            if slot == 'O':\n",
    "                lst.append('O')\n",
    "            else:\n",
    "                # with IBO\n",
    "                slot_start = slot.find('_',2)+1\n",
    "                entity_type = slot[slot_start:]\n",
    "                lst.append(slot[0]+'-'+entity_type)\n",
    "\n",
    "                #without IBO\n",
    "                # slot_start = slot.find('_',2)+1\n",
    "                # lst.append(slot[slot_start:])\n",
    "\n",
    "        slot_seq.append(lst)\n",
    "\n",
    "    df = data_df.copy()\n",
    "    df['label'] = label\n",
    "    df['seq_intent'] = int_lst\n",
    "    df['seq_out'] = slot_seq\n",
    "    df['seq_pro'] = pro_labels\n",
    "\n",
    "\n",
    "    # write all files\n",
    "    write(f'./{env_name}/seq.in',com_lst)\n",
    "    write(f'./{env_name}/seq.out',slot_seq)\n",
    "    write(f'./{env_name}/seq_intent.out',int_lst)\n",
    "    write(f'./{env_name}/seq_pro.out',pro_labels)\n",
    "    write(f'./{env_name}/label',label, False)\n",
    "\n",
    "    return df\n",
    "\n",
    "\n",
    "df_train_all = gen_files('train',env_dict['train'])\n",
    "df_dev_all = gen_files('dev',env_dict['dev'])\n",
    "df_test_all = gen_files('test',env_dict['test'])\n",
    "\n",
    "env_dict_all = {'train' : df_train_all,\n",
    "               'dev' : df_dev_all,\n",
    "               'test' : df_test_all}\n",
    "\n",
    "for env,df in env_dict_all.items():\n",
    "    print(env,'\\n')\n",
    "    display(df)\n",
    "    print('------------------------------------------------------------------')"
   ],
   "metadata": {
    "collapsed": false
   }
  },
  {
   "cell_type": "code",
   "execution_count": 15,
   "outputs": [
    {
     "data": {
      "text/plain": "['PAD',\n 'O',\n 'B-obj',\n 'B-dest',\n 'I-sour',\n 'I-obj',\n 'I-dest',\n 'B-per',\n 'B-sour',\n 'I-per']"
     },
     "execution_count": 15,
     "metadata": {},
     "output_type": "execute_result"
    }
   ],
   "source": [
    "def write_unique_slot(env_dict_all):\n",
    "    label = []\n",
    "    for df in env_dict_all.values():\n",
    "        label.extend(df['seq_out'].tolist())\n",
    "\n",
    "    label_lst = label.copy()\n",
    "\n",
    "    slots = [ele  for lst in label_lst for ele in lst if ele != 'O'] #ele[2:] to remove the B_, I_\n",
    "    unique_slot = ['PAD','O'] + [*set(slots)]\n",
    "\n",
    "    with open('slot_label.txt','w') as f:\n",
    "        for slot in unique_slot:\n",
    "            f.write(slot)\n",
    "            f.write('\\n')\n",
    "    return unique_slot\n",
    "\n",
    "unique_slot = write_unique_slot(env_dict_all)\n",
    "unique_slot"
   ],
   "metadata": {
    "collapsed": false
   }
  },
  {
   "cell_type": "code",
   "execution_count": 16,
   "outputs": [
    {
     "name": "stdout",
     "output_type": "stream",
     "text": [
      "env:  train\n",
      "Unique intent:  ['I-go', 'I-greet', 'O', 'B-greet', 'I-follow', 'I-find', 'B-guide', 'I-take', 'B-follow', 'I-guide', 'B-find', 'B-go', 'B-take'] 13\n",
      "Unique slots:   ['B-obj', 'B-dest', 'I-sour', 'O', 'I-obj', 'I-dest', 'B-per', 'B-sour', 'I-per'] 9 \n",
      "\n",
      "env:  dev\n",
      "Unique intent:  ['I-go', 'I-greet', 'O', 'B-greet', 'I-follow', 'I-find', 'B-guide', 'I-take', 'I-guide', 'B-follow', 'B-find', 'B-go', 'B-take'] 13\n",
      "Unique slots:   ['B-obj', 'B-dest', 'I-sour', 'O', 'I-obj', 'I-dest', 'B-per', 'B-sour', 'I-per'] 9 \n",
      "\n",
      "env:  test\n",
      "Unique intent:  ['I-go', 'I-greet', 'O', 'B-greet', 'I-follow', 'I-find', 'B-guide', 'I-take', 'B-follow', 'I-guide', 'B-find', 'B-go', 'B-take'] 13\n",
      "Unique slots:   ['B-obj', 'B-dest', 'I-sour', 'O', 'I-obj', 'I-dest', 'B-per', 'B-sour', 'I-per'] 9 \n",
      "\n"
     ]
    }
   ],
   "source": [
    "def show_unique_labels(env):\n",
    "    # uni_slot = [line.strip() for line in open('slot_label.txt', 'r', encoding='utf-8')]\n",
    "    # uni_intent = [line.strip() for line in open('intent_label.txt', 'r', encoding='utf-8')]\n",
    "\n",
    "    slot_path =  f'./{env}/seq.out'\n",
    "    intent_path = f'./{env}/seq_intent.out'\n",
    "\n",
    "    slot_seq = [line.strip().split() for line in open(slot_path, 'r', encoding='utf-8')]\n",
    "    intent_seq = [line.strip().split() for line in open(intent_path, 'r', encoding='utf-8')]\n",
    "\n",
    "    slot_lst = [label for seq in slot_seq for label in seq]\n",
    "    intent_lst = [label for seq in intent_seq for label in seq]\n",
    "\n",
    "    env_uni_slot = [*set(slot_lst)]\n",
    "    env_uni_intent = [*set(intent_lst)]\n",
    "    print('env: ',env)\n",
    "    print('Unique intent: ',env_uni_intent,len(env_uni_intent))\n",
    "    print('Unique slots:  ',env_uni_slot,len(env_uni_slot),'\\n')\n",
    "    return\n",
    "\n",
    "\n",
    "for env in env_dict_all.keys():\n",
    "    show_unique_labels(env)"
   ],
   "metadata": {
    "collapsed": false
   }
  }
 ],
 "metadata": {
  "kernelspec": {
   "name": "jointbert",
   "language": "python",
   "display_name": "jointbert"
  },
  "language_info": {
   "codemirror_mode": {
    "name": "ipython",
    "version": 2
   },
   "file_extension": ".py",
   "mimetype": "text/x-python",
   "name": "python",
   "nbconvert_exporter": "python",
   "pygments_lexer": "ipython2",
   "version": "2.7.6"
  }
 },
 "nbformat": 4,
 "nbformat_minor": 0
}
